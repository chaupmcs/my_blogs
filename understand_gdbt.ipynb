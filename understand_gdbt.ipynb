{
 "cells": [
  {
   "cell_type": "code",
   "execution_count": 1,
   "metadata": {},
   "outputs": [
    {
     "name": "stdout",
     "output_type": "stream",
     "text": [
      "The last edit :  2019-04-01 08:25:01\n"
     ]
    }
   ],
   "source": [
    "import datetime\n",
    "now = datetime.datetime.now()\n",
    "print (\"The last edit : \", now.strftime(\"%Y-%m-%d %H:%M:%S\"))"
   ]
  },
  {
   "cell_type": "code",
   "execution_count": 24,
   "metadata": {},
   "outputs": [],
   "source": [
    "import pandas as pd \n",
    "import lightgbm\n",
    "import os\n",
    "import math\n",
    "os.environ['KMP_DUPLICATE_LIB_OK']='True'  # fix error on MAC_OS when using light gbm, xgboost\n",
    "from sklearn.metrics import mean_squared_error\n",
    "\n",
    "import lightgbm\n",
    "import xgboost\n",
    "import matplotlib.pyplot as plt"
   ]
  },
  {
   "cell_type": "markdown",
   "metadata": {},
   "source": [
    "# Regression"
   ]
  },
  {
   "cell_type": "code",
   "execution_count": 3,
   "metadata": {},
   "outputs": [
    {
     "data": {
      "text/html": [
       "<div>\n",
       "<style scoped>\n",
       "    .dataframe tbody tr th:only-of-type {\n",
       "        vertical-align: middle;\n",
       "    }\n",
       "\n",
       "    .dataframe tbody tr th {\n",
       "        vertical-align: top;\n",
       "    }\n",
       "\n",
       "    .dataframe thead th {\n",
       "        text-align: right;\n",
       "    }\n",
       "</style>\n",
       "<table border=\"1\" class=\"dataframe\">\n",
       "  <thead>\n",
       "    <tr style=\"text-align: right;\">\n",
       "      <th></th>\n",
       "      <th>sqfeet</th>\n",
       "      <th>rent</th>\n",
       "      <th>index_</th>\n",
       "    </tr>\n",
       "  </thead>\n",
       "  <tbody>\n",
       "    <tr>\n",
       "      <th>0</th>\n",
       "      <td>750</td>\n",
       "      <td>1160</td>\n",
       "      <td>0</td>\n",
       "    </tr>\n",
       "    <tr>\n",
       "      <th>1</th>\n",
       "      <td>800</td>\n",
       "      <td>1200</td>\n",
       "      <td>1</td>\n",
       "    </tr>\n",
       "    <tr>\n",
       "      <th>2</th>\n",
       "      <td>850</td>\n",
       "      <td>1280</td>\n",
       "      <td>2</td>\n",
       "    </tr>\n",
       "    <tr>\n",
       "      <th>3</th>\n",
       "      <td>860</td>\n",
       "      <td>1300</td>\n",
       "      <td>3</td>\n",
       "    </tr>\n",
       "    <tr>\n",
       "      <th>4</th>\n",
       "      <td>900</td>\n",
       "      <td>1450</td>\n",
       "      <td>4</td>\n",
       "    </tr>\n",
       "    <tr>\n",
       "      <th>5</th>\n",
       "      <td>950</td>\n",
       "      <td>2000</td>\n",
       "      <td>5</td>\n",
       "    </tr>\n",
       "  </tbody>\n",
       "</table>\n",
       "</div>"
      ],
      "text/plain": [
       "   sqfeet  rent  index_\n",
       "0     750  1160       0\n",
       "1     800  1200       1\n",
       "2     850  1280       2\n",
       "3     860  1300       3\n",
       "4     900  1450       4\n",
       "5     950  2000       5"
      ]
     },
     "execution_count": 3,
     "metadata": {},
     "output_type": "execute_result"
    }
   ],
   "source": [
    "df = pd.read_csv(\"./data.csv\")\n",
    "df[\"index_\"] = range(len(df))\n",
    "df"
   ]
  },
  {
   "cell_type": "markdown",
   "metadata": {},
   "source": [
    "## Objective = mse"
   ]
  },
  {
   "cell_type": "code",
   "execution_count": 4,
   "metadata": {},
   "outputs": [
    {
     "data": {
      "text/plain": [
       "[(68163.0, 1, -238.33, 47.67),\n",
       " (143008.0, 2, -218.33, 109.17),\n",
       " (205350.0, 3, -185.0, 185.0),\n",
       " (320133.0, 4, -163.33, 326.67),\n",
       " (434403.0, 5, -120.33, 601.67)]"
      ]
     },
     "execution_count": 4,
     "metadata": {},
     "output_type": "execute_result"
    }
   ],
   "source": [
    "def mse_gain_for_evey_split(df, f_derivative_col):\n",
    "    \n",
    "    gain_list =  list()\n",
    "    residual_mean = df[f_derivative_col].mean()\n",
    "    for i in range(1, len(df)):\n",
    "        gain = 0\n",
    "        first_half_gain = 0 \n",
    "        second_half_gain = 0\n",
    "        first_half_mean = 0\n",
    "        second_half_mean = 0\n",
    "        first_half = df.iloc[:i,:]\n",
    "        second_half = df.iloc[i:,:]\n",
    "        \n",
    "        first_half_mean = np.round(first_half[f_derivative_col].mean(), 2)\n",
    "        second_half_mean = np.round(second_half[f_derivative_col].mean(), 2)\n",
    "\n",
    "        first_half_gain = np.sum(np.power(residual_mean - first_half[f_derivative_col], 2)) - \\\n",
    "                                np.sum(np.power(first_half_mean - first_half[f_derivative_col], 2))\n",
    "        second_half_gain = np.sum(np.power(residual_mean - second_half[f_derivative_col], 2)) - \\\n",
    "                                np.sum(np.power(second_half_mean - second_half[f_derivative_col], 2))\n",
    "        \n",
    "        gain = np.round(first_half_gain + second_half_gain, 0)\n",
    "        gain_list.append((gain, i, first_half_mean, second_half_mean)) # \"gain\" when splitting at index \"i\", note that\n",
    "                                    # \"index i\" mean splitting df into df[:i] and df[i:]\n",
    "    return gain_list\n",
    "\n",
    "\n",
    "def mse_find_best_split(df, f_derivative_col):\n",
    "    gain_list= mse_gain_for_evey_split(df, f_derivative_col)\n",
    "    best_gain, best_index, first_half_mean, second_half_mean = max(gain_list)\n",
    "    new_col = df.apply(lambda x: first_half_mean if x[\"index_\"] < best_index else second_half_mean, 1)\n",
    "    return new_col\n",
    "\n",
    "## test:\n",
    "df[\"F0\"] = df.rent.mean()\n",
    "df[\"F0_residual\"] = df[\"rent\"] - df[\"F0\"] \n",
    "mse_gain_for_evey_split(df, \"F0_residual\")\n"
   ]
  },
  {
   "cell_type": "markdown",
   "metadata": {},
   "source": [
    "### Check with normal GBT (Sklearn package)\n",
    "#### One Tree (checked, ok)"
   ]
  },
  {
   "cell_type": "code",
   "execution_count": 5,
   "metadata": {},
   "outputs": [
    {
     "name": "stdout",
     "output_type": "stream",
     "text": [
      "434403.0\n"
     ]
    },
    {
     "data": {
      "text/html": [
       "<div>\n",
       "<style scoped>\n",
       "    .dataframe tbody tr th:only-of-type {\n",
       "        vertical-align: middle;\n",
       "    }\n",
       "\n",
       "    .dataframe tbody tr th {\n",
       "        vertical-align: top;\n",
       "    }\n",
       "\n",
       "    .dataframe thead th {\n",
       "        text-align: right;\n",
       "    }\n",
       "</style>\n",
       "<table border=\"1\" class=\"dataframe\">\n",
       "  <thead>\n",
       "    <tr style=\"text-align: right;\">\n",
       "      <th></th>\n",
       "      <th>sqfeet</th>\n",
       "      <th>rent</th>\n",
       "      <th>index_</th>\n",
       "      <th>F0</th>\n",
       "      <th>F0_residual</th>\n",
       "      <th>h1</th>\n",
       "      <th>F1</th>\n",
       "      <th>F0_error</th>\n",
       "      <th>F1_error</th>\n",
       "    </tr>\n",
       "  </thead>\n",
       "  <tbody>\n",
       "    <tr>\n",
       "      <th>0</th>\n",
       "      <td>750</td>\n",
       "      <td>1160</td>\n",
       "      <td>0</td>\n",
       "      <td>1398.333333</td>\n",
       "      <td>-238.333333</td>\n",
       "      <td>-120.33</td>\n",
       "      <td>1278.003333</td>\n",
       "      <td>56802.777778</td>\n",
       "      <td>13924.786678</td>\n",
       "    </tr>\n",
       "    <tr>\n",
       "      <th>1</th>\n",
       "      <td>800</td>\n",
       "      <td>1200</td>\n",
       "      <td>1</td>\n",
       "      <td>1398.333333</td>\n",
       "      <td>-198.333333</td>\n",
       "      <td>-120.33</td>\n",
       "      <td>1278.003333</td>\n",
       "      <td>39336.111111</td>\n",
       "      <td>6084.520011</td>\n",
       "    </tr>\n",
       "    <tr>\n",
       "      <th>2</th>\n",
       "      <td>850</td>\n",
       "      <td>1280</td>\n",
       "      <td>2</td>\n",
       "      <td>1398.333333</td>\n",
       "      <td>-118.333333</td>\n",
       "      <td>-120.33</td>\n",
       "      <td>1278.003333</td>\n",
       "      <td>14002.777778</td>\n",
       "      <td>3.986678</td>\n",
       "    </tr>\n",
       "    <tr>\n",
       "      <th>3</th>\n",
       "      <td>860</td>\n",
       "      <td>1300</td>\n",
       "      <td>3</td>\n",
       "      <td>1398.333333</td>\n",
       "      <td>-98.333333</td>\n",
       "      <td>-120.33</td>\n",
       "      <td>1278.003333</td>\n",
       "      <td>9669.444444</td>\n",
       "      <td>483.853344</td>\n",
       "    </tr>\n",
       "    <tr>\n",
       "      <th>4</th>\n",
       "      <td>900</td>\n",
       "      <td>1450</td>\n",
       "      <td>4</td>\n",
       "      <td>1398.333333</td>\n",
       "      <td>51.666667</td>\n",
       "      <td>-120.33</td>\n",
       "      <td>1278.003333</td>\n",
       "      <td>2669.444444</td>\n",
       "      <td>29582.853344</td>\n",
       "    </tr>\n",
       "    <tr>\n",
       "      <th>5</th>\n",
       "      <td>950</td>\n",
       "      <td>2000</td>\n",
       "      <td>5</td>\n",
       "      <td>1398.333333</td>\n",
       "      <td>601.666667</td>\n",
       "      <td>601.67</td>\n",
       "      <td>2000.003333</td>\n",
       "      <td>362002.777778</td>\n",
       "      <td>0.000011</td>\n",
       "    </tr>\n",
       "  </tbody>\n",
       "</table>\n",
       "</div>"
      ],
      "text/plain": [
       "   sqfeet  rent  index_           F0  F0_residual      h1           F1  \\\n",
       "0     750  1160       0  1398.333333  -238.333333 -120.33  1278.003333   \n",
       "1     800  1200       1  1398.333333  -198.333333 -120.33  1278.003333   \n",
       "2     850  1280       2  1398.333333  -118.333333 -120.33  1278.003333   \n",
       "3     860  1300       3  1398.333333   -98.333333 -120.33  1278.003333   \n",
       "4     900  1450       4  1398.333333    51.666667 -120.33  1278.003333   \n",
       "5     950  2000       5  1398.333333   601.666667  601.67  2000.003333   \n",
       "\n",
       "        F0_error      F1_error  \n",
       "0   56802.777778  13924.786678  \n",
       "1   39336.111111   6084.520011  \n",
       "2   14002.777778      3.986678  \n",
       "3    9669.444444    483.853344  \n",
       "4    2669.444444  29582.853344  \n",
       "5  362002.777778      0.000011  "
      ]
     },
     "execution_count": 5,
     "metadata": {},
     "output_type": "execute_result"
    }
   ],
   "source": [
    "df = pd.read_csv(\"./data.csv\")\n",
    "df[\"index_\"] = range(len(df))\n",
    "\n",
    "\n",
    "df[\"F0\"] = df.rent.mean()\n",
    "df[\"F0_residual\"] = df[\"rent\"] - df[\"F0\"] \n",
    "df[\"h1\"] = mse_find_best_split(df, \"F0_residual\")\n",
    "\n",
    "df[\"F1\"] = df[\"F0\"] + df[\"h1\"]\n",
    "df[\"F0_error\"] = np.power(df[\"rent\"] - df[\"F0\"] , 2)\n",
    "df[\"F1_error\"] = np.power(df[\"rent\"] - df[\"F1\"] , 2)\n",
    "\n",
    "\n",
    "F1_gain = np.round( df[\"F0_error\"].sum() -  df[\"F1_error\"].sum(), 0)\n",
    "print(F1_gain)\n",
    "\n",
    "df"
   ]
  },
  {
   "cell_type": "code",
   "execution_count": 6,
   "metadata": {},
   "outputs": [
    {
     "name": "stdout",
     "output_type": "stream",
     "text": [
      "[1278. 1278. 1278. 1278. 1278. 2000.]\n",
      "[1278. 1278. 1278. 1278. 1278. 2000.]\n"
     ]
    },
    {
     "data": {
      "text/plain": [
       "0.0"
      ]
     },
     "execution_count": 6,
     "metadata": {},
     "output_type": "execute_result"
    }
   ],
   "source": [
    "from sklearn.ensemble import GradientBoostingRegressor\n",
    "from sklearn import ensemble\n",
    "model = GradientBoostingRegressor(alpha=0.9, criterion='mse', init=None,\n",
    "             learning_rate=1, loss='ls', max_depth=1, max_features=None,\n",
    "             max_leaf_nodes=None, min_impurity_decrease=0.0,\n",
    "             min_impurity_split=None, min_samples_leaf=1,\n",
    "             min_samples_split=1.0, min_weight_fraction_leaf=0.0,\n",
    "             n_estimators=1, n_iter_no_change=None, presort='auto',\n",
    "             random_state=None, subsample=1.0, tol=0.000001,\n",
    "             validation_fraction=0, verbose=0, warm_start=False)\n",
    "\n",
    "X = df[[\"sqfeet\"]]\n",
    "y = df.rent\n",
    "\n",
    "model.fit(X, y)\n",
    "y_pred = model.predict(X)\n",
    "\n",
    "\n",
    "col_to_check = \"F1\"\n",
    "print(np.round(df[col_to_check].values, 2))\n",
    "print(y_pred)\n",
    "np.round(mean_squared_error(df[col_to_check], y_pred), 4)"
   ]
  },
  {
   "cell_type": "markdown",
   "metadata": {},
   "source": [
    "#### Two trees (checked, ok)"
   ]
  },
  {
   "cell_type": "code",
   "execution_count": 7,
   "metadata": {},
   "outputs": [
    {
     "name": "stdout",
     "output_type": "stream",
     "text": [
      "28812.0\n"
     ]
    },
    {
     "data": {
      "text/html": [
       "<div>\n",
       "<style scoped>\n",
       "    .dataframe tbody tr th:only-of-type {\n",
       "        vertical-align: middle;\n",
       "    }\n",
       "\n",
       "    .dataframe tbody tr th {\n",
       "        vertical-align: top;\n",
       "    }\n",
       "\n",
       "    .dataframe thead th {\n",
       "        text-align: right;\n",
       "    }\n",
       "</style>\n",
       "<table border=\"1\" class=\"dataframe\">\n",
       "  <thead>\n",
       "    <tr style=\"text-align: right;\">\n",
       "      <th></th>\n",
       "      <th>sqfeet</th>\n",
       "      <th>rent</th>\n",
       "      <th>index_</th>\n",
       "      <th>F0</th>\n",
       "      <th>F0_residual</th>\n",
       "      <th>h1</th>\n",
       "      <th>F1</th>\n",
       "      <th>F1_residual</th>\n",
       "      <th>h2</th>\n",
       "      <th>F2</th>\n",
       "      <th>F1_error</th>\n",
       "      <th>F2_error</th>\n",
       "    </tr>\n",
       "  </thead>\n",
       "  <tbody>\n",
       "    <tr>\n",
       "      <th>0</th>\n",
       "      <td>750</td>\n",
       "      <td>1160</td>\n",
       "      <td>0</td>\n",
       "      <td>1398.333333</td>\n",
       "      <td>-238.333333</td>\n",
       "      <td>-120.33</td>\n",
       "      <td>1278.003333</td>\n",
       "      <td>-118.003333</td>\n",
       "      <td>-98.0</td>\n",
       "      <td>1180.003333</td>\n",
       "      <td>13924.786678</td>\n",
       "      <td>400.133344</td>\n",
       "    </tr>\n",
       "    <tr>\n",
       "      <th>1</th>\n",
       "      <td>800</td>\n",
       "      <td>1200</td>\n",
       "      <td>1</td>\n",
       "      <td>1398.333333</td>\n",
       "      <td>-198.333333</td>\n",
       "      <td>-120.33</td>\n",
       "      <td>1278.003333</td>\n",
       "      <td>-78.003333</td>\n",
       "      <td>-98.0</td>\n",
       "      <td>1180.003333</td>\n",
       "      <td>6084.520011</td>\n",
       "      <td>399.866678</td>\n",
       "    </tr>\n",
       "    <tr>\n",
       "      <th>2</th>\n",
       "      <td>850</td>\n",
       "      <td>1280</td>\n",
       "      <td>2</td>\n",
       "      <td>1398.333333</td>\n",
       "      <td>-118.333333</td>\n",
       "      <td>-120.33</td>\n",
       "      <td>1278.003333</td>\n",
       "      <td>1.996667</td>\n",
       "      <td>49.0</td>\n",
       "      <td>1327.003333</td>\n",
       "      <td>3.986678</td>\n",
       "      <td>2209.313344</td>\n",
       "    </tr>\n",
       "    <tr>\n",
       "      <th>3</th>\n",
       "      <td>860</td>\n",
       "      <td>1300</td>\n",
       "      <td>3</td>\n",
       "      <td>1398.333333</td>\n",
       "      <td>-98.333333</td>\n",
       "      <td>-120.33</td>\n",
       "      <td>1278.003333</td>\n",
       "      <td>21.996667</td>\n",
       "      <td>49.0</td>\n",
       "      <td>1327.003333</td>\n",
       "      <td>483.853344</td>\n",
       "      <td>729.180011</td>\n",
       "    </tr>\n",
       "    <tr>\n",
       "      <th>4</th>\n",
       "      <td>900</td>\n",
       "      <td>1450</td>\n",
       "      <td>4</td>\n",
       "      <td>1398.333333</td>\n",
       "      <td>51.666667</td>\n",
       "      <td>-120.33</td>\n",
       "      <td>1278.003333</td>\n",
       "      <td>171.996667</td>\n",
       "      <td>49.0</td>\n",
       "      <td>1327.003333</td>\n",
       "      <td>29582.853344</td>\n",
       "      <td>15128.180011</td>\n",
       "    </tr>\n",
       "    <tr>\n",
       "      <th>5</th>\n",
       "      <td>950</td>\n",
       "      <td>2000</td>\n",
       "      <td>5</td>\n",
       "      <td>1398.333333</td>\n",
       "      <td>601.666667</td>\n",
       "      <td>601.67</td>\n",
       "      <td>2000.003333</td>\n",
       "      <td>-0.003333</td>\n",
       "      <td>49.0</td>\n",
       "      <td>2049.003333</td>\n",
       "      <td>0.000011</td>\n",
       "      <td>2401.326678</td>\n",
       "    </tr>\n",
       "  </tbody>\n",
       "</table>\n",
       "</div>"
      ],
      "text/plain": [
       "   sqfeet  rent  index_           F0  F0_residual      h1           F1  \\\n",
       "0     750  1160       0  1398.333333  -238.333333 -120.33  1278.003333   \n",
       "1     800  1200       1  1398.333333  -198.333333 -120.33  1278.003333   \n",
       "2     850  1280       2  1398.333333  -118.333333 -120.33  1278.003333   \n",
       "3     860  1300       3  1398.333333   -98.333333 -120.33  1278.003333   \n",
       "4     900  1450       4  1398.333333    51.666667 -120.33  1278.003333   \n",
       "5     950  2000       5  1398.333333   601.666667  601.67  2000.003333   \n",
       "\n",
       "   F1_residual    h2           F2      F1_error      F2_error  \n",
       "0  -118.003333 -98.0  1180.003333  13924.786678    400.133344  \n",
       "1   -78.003333 -98.0  1180.003333   6084.520011    399.866678  \n",
       "2     1.996667  49.0  1327.003333      3.986678   2209.313344  \n",
       "3    21.996667  49.0  1327.003333    483.853344    729.180011  \n",
       "4   171.996667  49.0  1327.003333  29582.853344  15128.180011  \n",
       "5    -0.003333  49.0  2049.003333      0.000011   2401.326678  "
      ]
     },
     "execution_count": 7,
     "metadata": {},
     "output_type": "execute_result"
    }
   ],
   "source": [
    "df = pd.read_csv(\"./data.csv\")\n",
    "df[\"index_\"] = range(len(df))\n",
    "\n",
    "df[\"F0\"] = df.rent.mean()\n",
    "df[\"F0_residual\"] = df[\"rent\"] - df[\"F0\"] \n",
    "df[\"h1\"] = mse_find_best_split(df, \"F0_residual\")\n",
    "\n",
    "df[\"F1\"] = df[\"F0\"] + df[\"h1\"]\n",
    "\n",
    "df[\"F1_residual\"] = df[\"rent\"] - df[\"F1\"] \n",
    "df[\"h2\"] = mse_find_best_split(df, \"F1_residual\")\n",
    "\n",
    "df[\"F2\"] = df[\"F1\"] + df[\"h2\"]\n",
    "df[\"F1_error\"] = np.power(df[\"rent\"] - df[\"F1\"] , 2)\n",
    "df[\"F2_error\"] = np.power(df[\"rent\"] - df[\"F2\"] , 2)\n",
    "\n",
    "\n",
    "F2_gain = np.round( df[\"F1_error\"].sum() -  df[\"F2_error\"].sum(), 0)\n",
    "print(F2_gain)\n",
    "\n",
    "df"
   ]
  },
  {
   "cell_type": "code",
   "execution_count": 8,
   "metadata": {},
   "outputs": [
    {
     "name": "stdout",
     "output_type": "stream",
     "text": [
      "[1180. 1180. 1327. 1327. 1327. 2049.]\n",
      "[1180. 1180. 1327. 1327. 1327. 2049.]\n"
     ]
    },
    {
     "data": {
      "text/plain": [
       "0.0"
      ]
     },
     "execution_count": 8,
     "metadata": {},
     "output_type": "execute_result"
    }
   ],
   "source": [
    "from sklearn.ensemble import GradientBoostingRegressor\n",
    "model = GradientBoostingRegressor(alpha=0.9, criterion='mse', init=None,\n",
    "             learning_rate=1, loss='ls', max_depth=1, max_features=None,\n",
    "             max_leaf_nodes=None, min_impurity_decrease=0.0,\n",
    "             min_impurity_split=None, min_samples_leaf=1,\n",
    "             min_samples_split=1.0, min_weight_fraction_leaf=0.0,\n",
    "             n_estimators=2, n_iter_no_change=None, presort='auto',\n",
    "             random_state=None, subsample=1.0, tol=0.000001,\n",
    "             validation_fraction=0, verbose=0, warm_start=False)\n",
    "\n",
    "X = df[[\"sqfeet\"]]\n",
    "y = df.rent\n",
    "\n",
    "model.fit(X, y)\n",
    "y_pred = model.predict(X)\n",
    "\n",
    "col_to_check = \"F2\"\n",
    "print(np.round(df[col_to_check].values, 2))\n",
    "print(y_pred)\n",
    "np.round(mean_squared_error(df[col_to_check], y_pred), 4)"
   ]
  },
  {
   "cell_type": "markdown",
   "metadata": {},
   "source": [
    "=> It works like we expected"
   ]
  },
  {
   "cell_type": "markdown",
   "metadata": {},
   "source": [
    "### Check with Light GBM "
   ]
  },
  {
   "cell_type": "markdown",
   "metadata": {},
   "source": [
    "#### One tree "
   ]
  },
  {
   "cell_type": "code",
   "execution_count": 9,
   "metadata": {},
   "outputs": [
    {
     "name": "stdout",
     "output_type": "stream",
     "text": [
      "[1278. 1278. 1278. 1278. 1278. 2000.]\n",
      "[1213.33 1213.33 1213.33 1583.33 1583.33 1583.33]\n"
     ]
    },
    {
     "data": {
      "text/plain": [
       "62102.2225"
      ]
     },
     "execution_count": 9,
     "metadata": {},
     "output_type": "execute_result"
    }
   ],
   "source": [
    "df = pd.read_csv(\"./data.csv\")\n",
    "df[\"index_\"] = range(len(df))\n",
    "\n",
    "df[\"F0\"] = df.rent.mean()\n",
    "df[\"F0_residual\"] = df[\"rent\"] - df[\"F0\"] \n",
    "df[\"h1\"] = mse_find_best_split(df, \"F0_residual\")\n",
    "\n",
    "df[\"F1\"] = df[\"F0\"] + df[\"h1\"]\n",
    "\n",
    "\n",
    "lgbm = lightgbm.LGBMRegressor(boosting_type='gbdt', class_weight=None, colsample_bytree=1.0,\n",
    "       importance_type='split', learning_rate=1, max_depth=1,\n",
    "       min_child_samples=1, min_child_weight=0, min_split_gain=0.0,\n",
    "       n_estimators=1, n_jobs=1, num_leaves=31, objective=\"mse\",\n",
    "       random_state=None, reg_alpha=0.0, reg_lambda=0.0, silent=False,\n",
    "       subsample=1.0, subsample_for_bin=2000, subsample_freq=0)\n",
    "\n",
    "X = df[[\"sqfeet\"]]\n",
    "y = df.rent\n",
    "\n",
    "lgbm.fit(X, y)\n",
    "y_pred = lgbm.predict(X)\n",
    "\n",
    "col_to_check = \"F1\"\n",
    "print(np.round(df[col_to_check].values, 2))\n",
    "print(np.round(y_pred, 2) )\n",
    "np.round(mean_squared_error(df[col_to_check], y_pred), 4)"
   ]
  },
  {
   "cell_type": "code",
   "execution_count": 10,
   "metadata": {},
   "outputs": [
    {
     "data": {
      "image/svg+xml": [
       "<?xml version=\"1.0\" encoding=\"UTF-8\" standalone=\"no\"?>\n",
       "<!DOCTYPE svg PUBLIC \"-//W3C//DTD SVG 1.1//EN\"\n",
       " \"http://www.w3.org/Graphics/SVG/1.1/DTD/svg11.dtd\">\n",
       "<!-- Generated by graphviz version 2.40.1 (20161225.0304)\n",
       " -->\n",
       "<!-- Title: %3 Pages: 1 -->\n",
       "<svg width=\"602pt\" height=\"239pt\"\n",
       " viewBox=\"0.00 0.00 602.40 239.02\" xmlns=\"http://www.w3.org/2000/svg\" xmlns:xlink=\"http://www.w3.org/1999/xlink\">\n",
       "<g id=\"graph0\" class=\"graph\" transform=\"scale(1 1) rotate(0) translate(4 235.0193)\">\n",
       "<title>%3</title>\n",
       "<polygon fill=\"#ffffff\" stroke=\"transparent\" points=\"-4,4 -4,-235.0193 598.4008,-235.0193 598.4008,4 -4,4\"/>\n",
       "<!-- split0 -->\n",
       "<g id=\"node1\" class=\"node\">\n",
       "<title>split0</title>\n",
       "<ellipse fill=\"none\" stroke=\"#000000\" cx=\"297.3817\" cy=\"-175.865\" rx=\"135.1051\" ry=\"55.3091\"/>\n",
       "<text text-anchor=\"middle\" x=\"297.3817\" y=\"-199.665\" font-family=\"Times,serif\" font-size=\"14.00\" fill=\"#000000\">split_feature_name: sqfeet</text>\n",
       "<text text-anchor=\"middle\" x=\"297.3817\" y=\"-185.665\" font-family=\"Times,serif\" font-size=\"14.00\" fill=\"#000000\">threshold: 855.0000000000001</text>\n",
       "<text text-anchor=\"middle\" x=\"297.3817\" y=\"-171.665\" font-family=\"Times,serif\" font-size=\"14.00\" fill=\"#000000\">split_gain: 205350</text>\n",
       "<text text-anchor=\"middle\" x=\"297.3817\" y=\"-157.665\" font-family=\"Times,serif\" font-size=\"14.00\" fill=\"#000000\">internal_value: 0</text>\n",
       "<text text-anchor=\"middle\" x=\"297.3817\" y=\"-143.665\" font-family=\"Times,serif\" font-size=\"14.00\" fill=\"#000000\">internal_count: 6</text>\n",
       "</g>\n",
       "<!-- leaf0 -->\n",
       "<g id=\"node2\" class=\"node\">\n",
       "<title>leaf0</title>\n",
       "<ellipse fill=\"none\" stroke=\"#000000\" cx=\"144.3817\" cy=\"-35.3553\" rx=\"144.2634\" ry=\"35.2113\"/>\n",
       "<text text-anchor=\"middle\" x=\"144.3817\" y=\"-45.1553\" font-family=\"Times,serif\" font-size=\"14.00\" fill=\"#000000\">leaf_index: 0</text>\n",
       "<text text-anchor=\"middle\" x=\"144.3817\" y=\"-31.1553\" font-family=\"Times,serif\" font-size=\"14.00\" fill=\"#000000\">leaf_value: 1213.3333358764648</text>\n",
       "<text text-anchor=\"middle\" x=\"144.3817\" y=\"-17.1553\" font-family=\"Times,serif\" font-size=\"14.00\" fill=\"#000000\">leaf_count: 3</text>\n",
       "</g>\n",
       "<!-- split0&#45;&gt;leaf0 -->\n",
       "<g id=\"edge1\" class=\"edge\">\n",
       "<title>split0&#45;&gt;leaf0</title>\n",
       "<path fill=\"none\" stroke=\"#000000\" d=\"M242.1452,-125.1378C224.7759,-109.1865 205.8181,-91.7763 189.2592,-76.5692\"/>\n",
       "<polygon fill=\"#000000\" stroke=\"#000000\" points=\"191.5669,-73.9365 181.8342,-69.7504 186.8321,-79.0923 191.5669,-73.9365\"/>\n",
       "<text text-anchor=\"middle\" x=\"224.2772\" y=\"-91.5107\" font-family=\"Times,serif\" font-size=\"14.00\" fill=\"#000000\">&lt;=</text>\n",
       "</g>\n",
       "<!-- leaf1 -->\n",
       "<g id=\"node3\" class=\"node\">\n",
       "<title>leaf1</title>\n",
       "<ellipse fill=\"none\" stroke=\"#000000\" cx=\"450.3817\" cy=\"-35.3553\" rx=\"144.0383\" ry=\"35.2113\"/>\n",
       "<text text-anchor=\"middle\" x=\"450.3817\" y=\"-45.1553\" font-family=\"Times,serif\" font-size=\"14.00\" fill=\"#000000\">leaf_index: 1</text>\n",
       "<text text-anchor=\"middle\" x=\"450.3817\" y=\"-31.1553\" font-family=\"Times,serif\" font-size=\"14.00\" fill=\"#000000\">leaf_value: 1583.3333396911619</text>\n",
       "<text text-anchor=\"middle\" x=\"450.3817\" y=\"-17.1553\" font-family=\"Times,serif\" font-size=\"14.00\" fill=\"#000000\">leaf_count: 3</text>\n",
       "</g>\n",
       "<!-- split0&#45;&gt;leaf1 -->\n",
       "<g id=\"edge2\" class=\"edge\">\n",
       "<title>split0&#45;&gt;leaf1</title>\n",
       "<path fill=\"none\" stroke=\"#000000\" d=\"M352.6182,-125.1378C369.9874,-109.1865 388.9453,-91.7763 405.5042,-76.5692\"/>\n",
       "<polygon fill=\"#000000\" stroke=\"#000000\" points=\"407.9313,-79.0923 412.9292,-69.7504 403.1964,-73.9365 407.9313,-79.0923\"/>\n",
       "<text text-anchor=\"middle\" x=\"396.3294\" y=\"-91.5107\" font-family=\"Times,serif\" font-size=\"14.00\" fill=\"#000000\">&gt;</text>\n",
       "</g>\n",
       "</g>\n",
       "</svg>\n"
      ],
      "text/plain": [
       "<graphviz.dot.Digraph at 0x1a24316f60>"
      ]
     },
     "execution_count": 10,
     "metadata": {},
     "output_type": "execute_result"
    }
   ],
   "source": [
    "lightgbm.create_tree_digraph(lgbm, tree_index=0, show_info=[\"split_gain\",\n",
    "                                                 \"internal_value\", \"internal_count\", \"leaf_count\"] )"
   ]
  },
  {
   "cell_type": "markdown",
   "metadata": {},
   "source": [
    "#### Two tree (checked, NOT the same, need to check again)"
   ]
  },
  {
   "cell_type": "code",
   "execution_count": 11,
   "metadata": {},
   "outputs": [
    {
     "name": "stdout",
     "output_type": "stream",
     "text": [
      "[1180. 1180. 1327. 1327. 1327. 2049.]\n",
      "[1213.33 1213.33 1213.33 1583.33 1583.33 1583.33]\n",
      "60566.8888\n"
     ]
    },
    {
     "data": {
      "image/svg+xml": [
       "<?xml version=\"1.0\" encoding=\"UTF-8\" standalone=\"no\"?>\n",
       "<!DOCTYPE svg PUBLIC \"-//W3C//DTD SVG 1.1//EN\"\n",
       " \"http://www.w3.org/Graphics/SVG/1.1/DTD/svg11.dtd\">\n",
       "<!-- Generated by graphviz version 2.40.1 (20161225.0304)\n",
       " -->\n",
       "<!-- Title: %3 Pages: 1 -->\n",
       "<svg width=\"602pt\" height=\"239pt\"\n",
       " viewBox=\"0.00 0.00 602.40 239.02\" xmlns=\"http://www.w3.org/2000/svg\" xmlns:xlink=\"http://www.w3.org/1999/xlink\">\n",
       "<g id=\"graph0\" class=\"graph\" transform=\"scale(1 1) rotate(0) translate(4 235.0193)\">\n",
       "<title>%3</title>\n",
       "<polygon fill=\"#ffffff\" stroke=\"transparent\" points=\"-4,4 -4,-235.0193 598.4008,-235.0193 598.4008,4 -4,4\"/>\n",
       "<!-- split0 -->\n",
       "<g id=\"node1\" class=\"node\">\n",
       "<title>split0</title>\n",
       "<ellipse fill=\"none\" stroke=\"#000000\" cx=\"297.3817\" cy=\"-175.865\" rx=\"135.1051\" ry=\"55.3091\"/>\n",
       "<text text-anchor=\"middle\" x=\"297.3817\" y=\"-199.665\" font-family=\"Times,serif\" font-size=\"14.00\" fill=\"#000000\">split_feature_name: sqfeet</text>\n",
       "<text text-anchor=\"middle\" x=\"297.3817\" y=\"-185.665\" font-family=\"Times,serif\" font-size=\"14.00\" fill=\"#000000\">threshold: 855.0000000000001</text>\n",
       "<text text-anchor=\"middle\" x=\"297.3817\" y=\"-171.665\" font-family=\"Times,serif\" font-size=\"14.00\" fill=\"#000000\">split_gain: 205350</text>\n",
       "<text text-anchor=\"middle\" x=\"297.3817\" y=\"-157.665\" font-family=\"Times,serif\" font-size=\"14.00\" fill=\"#000000\">internal_value: 0</text>\n",
       "<text text-anchor=\"middle\" x=\"297.3817\" y=\"-143.665\" font-family=\"Times,serif\" font-size=\"14.00\" fill=\"#000000\">internal_count: 6</text>\n",
       "</g>\n",
       "<!-- leaf0 -->\n",
       "<g id=\"node2\" class=\"node\">\n",
       "<title>leaf0</title>\n",
       "<ellipse fill=\"none\" stroke=\"#000000\" cx=\"144.3817\" cy=\"-35.3553\" rx=\"144.2634\" ry=\"35.2113\"/>\n",
       "<text text-anchor=\"middle\" x=\"144.3817\" y=\"-45.1553\" font-family=\"Times,serif\" font-size=\"14.00\" fill=\"#000000\">leaf_index: 0</text>\n",
       "<text text-anchor=\"middle\" x=\"144.3817\" y=\"-31.1553\" font-family=\"Times,serif\" font-size=\"14.00\" fill=\"#000000\">leaf_value: 1213.3333358764648</text>\n",
       "<text text-anchor=\"middle\" x=\"144.3817\" y=\"-17.1553\" font-family=\"Times,serif\" font-size=\"14.00\" fill=\"#000000\">leaf_count: 3</text>\n",
       "</g>\n",
       "<!-- split0&#45;&gt;leaf0 -->\n",
       "<g id=\"edge1\" class=\"edge\">\n",
       "<title>split0&#45;&gt;leaf0</title>\n",
       "<path fill=\"none\" stroke=\"#000000\" d=\"M242.1452,-125.1378C224.7759,-109.1865 205.8181,-91.7763 189.2592,-76.5692\"/>\n",
       "<polygon fill=\"#000000\" stroke=\"#000000\" points=\"191.5669,-73.9365 181.8342,-69.7504 186.8321,-79.0923 191.5669,-73.9365\"/>\n",
       "<text text-anchor=\"middle\" x=\"224.2772\" y=\"-91.5107\" font-family=\"Times,serif\" font-size=\"14.00\" fill=\"#000000\">&lt;=</text>\n",
       "</g>\n",
       "<!-- leaf1 -->\n",
       "<g id=\"node3\" class=\"node\">\n",
       "<title>leaf1</title>\n",
       "<ellipse fill=\"none\" stroke=\"#000000\" cx=\"450.3817\" cy=\"-35.3553\" rx=\"144.0383\" ry=\"35.2113\"/>\n",
       "<text text-anchor=\"middle\" x=\"450.3817\" y=\"-45.1553\" font-family=\"Times,serif\" font-size=\"14.00\" fill=\"#000000\">leaf_index: 1</text>\n",
       "<text text-anchor=\"middle\" x=\"450.3817\" y=\"-31.1553\" font-family=\"Times,serif\" font-size=\"14.00\" fill=\"#000000\">leaf_value: 1583.3333396911619</text>\n",
       "<text text-anchor=\"middle\" x=\"450.3817\" y=\"-17.1553\" font-family=\"Times,serif\" font-size=\"14.00\" fill=\"#000000\">leaf_count: 3</text>\n",
       "</g>\n",
       "<!-- split0&#45;&gt;leaf1 -->\n",
       "<g id=\"edge2\" class=\"edge\">\n",
       "<title>split0&#45;&gt;leaf1</title>\n",
       "<path fill=\"none\" stroke=\"#000000\" d=\"M352.6182,-125.1378C369.9874,-109.1865 388.9453,-91.7763 405.5042,-76.5692\"/>\n",
       "<polygon fill=\"#000000\" stroke=\"#000000\" points=\"407.9313,-79.0923 412.9292,-69.7504 403.1964,-73.9365 407.9313,-79.0923\"/>\n",
       "<text text-anchor=\"middle\" x=\"396.3294\" y=\"-91.5107\" font-family=\"Times,serif\" font-size=\"14.00\" fill=\"#000000\">&gt;</text>\n",
       "</g>\n",
       "</g>\n",
       "</svg>\n"
      ],
      "text/plain": [
       "<graphviz.dot.Digraph at 0x1a269e8a58>"
      ]
     },
     "execution_count": 11,
     "metadata": {},
     "output_type": "execute_result"
    }
   ],
   "source": [
    "df = pd.read_csv(\"./data.csv\")\n",
    "df[\"index_\"] = range(len(df))\n",
    "\n",
    "df[\"F0\"] = df.rent.mean()\n",
    "df[\"F0_residual\"] = df[\"rent\"] - df[\"F0\"] \n",
    "df[\"h1\"] = mse_find_best_split(df, \"F0_residual\")\n",
    "\n",
    "df[\"F1\"] = df[\"F0\"] + df[\"h1\"]\n",
    "\n",
    "df[\"F1_residual\"] = df[\"rent\"] - df[\"F1\"] \n",
    "df[\"h2\"] = mse_find_best_split(df, \"F1_residual\")\n",
    "\n",
    "df[\"F2\"] = df[\"F1\"] + df[\"h2\"]\n",
    "\n",
    "lgbm = lightgbm.LGBMRegressor(boosting_type='gbdt', class_weight=None, colsample_bytree=1.0,\n",
    "       importance_type='split', learning_rate=1, max_depth=1,\n",
    "       min_child_samples=1, min_child_weight=0, min_split_gain=0.0,\n",
    "       n_estimators=2, n_jobs=-1, num_leaves=31, objective=\"mse\",\n",
    "       random_state=None, reg_alpha=0.0, reg_lambda=0.0, silent=False,\n",
    "       subsample=1.0, subsample_for_bin=2000, subsample_freq=0)\n",
    "\n",
    "X = df[[\"sqfeet\"]]\n",
    "y = df.rent\n",
    "\n",
    "lgbm.fit(X, y)\n",
    "y_pred = lgbm.predict(X)\n",
    "\n",
    "col_to_check = \"F2\"\n",
    "print(np.round(df[col_to_check].values, 2))\n",
    "print(np.round(y_pred, 2) )\n",
    "print(np.round(mean_squared_error(df[col_to_check], y_pred), 4))\n",
    "f1 = lightgbm.create_tree_digraph(lgbm, tree_index=0, show_info=[\"split_gain\",\n",
    "                                                 \"internal_value\", \"internal_count\", \"leaf_count\"] )\n",
    "f2 = lightgbm.create_tree_digraph(lgbm, tree_index=1, show_info=[\"split_gain\",\n",
    "                                                 \"internal_value\", \"internal_count\", \"leaf_count\"] )\n",
    "\n",
    "f1"
   ]
  },
  {
   "cell_type": "code",
   "execution_count": 12,
   "metadata": {},
   "outputs": [
    {
     "data": {
      "image/svg+xml": [
       "<?xml version=\"1.0\" encoding=\"UTF-8\" standalone=\"no\"?>\n",
       "<!DOCTYPE svg PUBLIC \"-//W3C//DTD SVG 1.1//EN\"\n",
       " \"http://www.w3.org/Graphics/SVG/1.1/DTD/svg11.dtd\">\n",
       "<!-- Generated by graphviz version 2.40.1 (20161225.0304)\n",
       " -->\n",
       "<!-- Title: %3 Pages: 1 -->\n",
       "<svg width=\"678pt\" height=\"239pt\"\n",
       " viewBox=\"0.00 0.00 677.59 239.02\" xmlns=\"http://www.w3.org/2000/svg\" xmlns:xlink=\"http://www.w3.org/1999/xlink\">\n",
       "<g id=\"graph0\" class=\"graph\" transform=\"scale(1 1) rotate(0) translate(4 235.0193)\">\n",
       "<title>%3</title>\n",
       "<polygon fill=\"#ffffff\" stroke=\"transparent\" points=\"-4,4 -4,-235.0193 673.5868,-235.0193 673.5868,4 -4,4\"/>\n",
       "<!-- split0 -->\n",
       "<g id=\"node1\" class=\"node\">\n",
       "<title>split0</title>\n",
       "<ellipse fill=\"none\" stroke=\"#000000\" cx=\"332.3185\" cy=\"-175.865\" rx=\"154.2434\" ry=\"55.3091\"/>\n",
       "<text text-anchor=\"middle\" x=\"332.3185\" y=\"-199.665\" font-family=\"Times,serif\" font-size=\"14.00\" fill=\"#000000\">split_feature_name: sqfeet</text>\n",
       "<text text-anchor=\"middle\" x=\"332.3185\" y=\"-185.665\" font-family=\"Times,serif\" font-size=\"14.00\" fill=\"#000000\">threshold: 855.0000000000001</text>\n",
       "<text text-anchor=\"middle\" x=\"332.3185\" y=\"-171.665\" font-family=\"Times,serif\" font-size=\"14.00\" fill=\"#000000\">split_gain: 8.731149830909501e&#45;11</text>\n",
       "<text text-anchor=\"middle\" x=\"332.3185\" y=\"-157.665\" font-family=\"Times,serif\" font-size=\"14.00\" fill=\"#000000\">internal_value: 0</text>\n",
       "<text text-anchor=\"middle\" x=\"332.3185\" y=\"-143.665\" font-family=\"Times,serif\" font-size=\"14.00\" fill=\"#000000\">internal_count: 6</text>\n",
       "</g>\n",
       "<!-- leaf0 -->\n",
       "<g id=\"node2\" class=\"node\">\n",
       "<title>leaf0</title>\n",
       "<ellipse fill=\"none\" stroke=\"#000000\" cx=\"160.3185\" cy=\"-35.3553\" rx=\"160.1372\" ry=\"35.2113\"/>\n",
       "<text text-anchor=\"middle\" x=\"160.3185\" y=\"-45.1553\" font-family=\"Times,serif\" font-size=\"14.00\" fill=\"#000000\">leaf_index: 0</text>\n",
       "<text text-anchor=\"middle\" x=\"160.3185\" y=\"-31.1553\" font-family=\"Times,serif\" font-size=\"14.00\" fill=\"#000000\">leaf_value: &#45;2.543131510416666e&#45;06</text>\n",
       "<text text-anchor=\"middle\" x=\"160.3185\" y=\"-17.1553\" font-family=\"Times,serif\" font-size=\"14.00\" fill=\"#000000\">leaf_count: 3</text>\n",
       "</g>\n",
       "<!-- split0&#45;&gt;leaf0 -->\n",
       "<g id=\"edge1\" class=\"edge\">\n",
       "<title>split0&#45;&gt;leaf0</title>\n",
       "<path fill=\"none\" stroke=\"#000000\" d=\"M270.2226,-125.1378C250.4362,-108.974 228.8161,-91.3122 210.0265,-75.9627\"/>\n",
       "<polygon fill=\"#000000\" stroke=\"#000000\" points=\"212.1195,-73.153 202.1608,-69.537 207.6909,-78.5741 212.1195,-73.153\"/>\n",
       "<text text-anchor=\"middle\" x=\"249.214\" y=\"-91.5107\" font-family=\"Times,serif\" font-size=\"14.00\" fill=\"#000000\">&lt;=</text>\n",
       "</g>\n",
       "<!-- leaf1 -->\n",
       "<g id=\"node3\" class=\"node\">\n",
       "<title>leaf1</title>\n",
       "<ellipse fill=\"none\" stroke=\"#000000\" cx=\"504.3185\" cy=\"-35.3553\" rx=\"165.0368\" ry=\"35.2113\"/>\n",
       "<text text-anchor=\"middle\" x=\"504.3185\" y=\"-45.1553\" font-family=\"Times,serif\" font-size=\"14.00\" fill=\"#000000\">leaf_index: 1</text>\n",
       "<text text-anchor=\"middle\" x=\"504.3185\" y=\"-31.1553\" font-family=\"Times,serif\" font-size=\"14.00\" fill=\"#000000\">leaf_value: &#45;1.0172526041666664e&#45;05</text>\n",
       "<text text-anchor=\"middle\" x=\"504.3185\" y=\"-17.1553\" font-family=\"Times,serif\" font-size=\"14.00\" fill=\"#000000\">leaf_count: 3</text>\n",
       "</g>\n",
       "<!-- split0&#45;&gt;leaf1 -->\n",
       "<g id=\"edge2\" class=\"edge\">\n",
       "<title>split0&#45;&gt;leaf1</title>\n",
       "<path fill=\"none\" stroke=\"#000000\" d=\"M394.4145,-125.1378C414.1166,-109.0428 435.6369,-91.4625 454.3704,-76.1587\"/>\n",
       "<polygon fill=\"#000000\" stroke=\"#000000\" points=\"456.685,-78.7874 462.2151,-69.7504 452.2564,-73.3664 456.685,-78.7874\"/>\n",
       "<text text-anchor=\"middle\" x=\"443.2663\" y=\"-91.5107\" font-family=\"Times,serif\" font-size=\"14.00\" fill=\"#000000\">&gt;</text>\n",
       "</g>\n",
       "</g>\n",
       "</svg>\n"
      ],
      "text/plain": [
       "<graphviz.dot.Digraph at 0x1a269e8c18>"
      ]
     },
     "execution_count": 12,
     "metadata": {},
     "output_type": "execute_result"
    }
   ],
   "source": [
    "f2"
   ]
  },
  {
   "cell_type": "code",
   "execution_count": null,
   "metadata": {},
   "outputs": [],
   "source": []
  },
  {
   "cell_type": "markdown",
   "metadata": {},
   "source": [
    "### Check with XGBoost"
   ]
  },
  {
   "cell_type": "markdown",
   "metadata": {},
   "source": [
    "#### One tree (checked, ok)"
   ]
  },
  {
   "cell_type": "code",
   "execution_count": 13,
   "metadata": {},
   "outputs": [
    {
     "name": "stdout",
     "output_type": "stream",
     "text": [
      "[1278. 1278. 1278. 1278. 1278. 2000.]\n",
      "[1278. 1278. 1278. 1278. 1278. 2000.]\n",
      "0.0\n"
     ]
    },
    {
     "data": {
      "image/svg+xml": [
       "<?xml version=\"1.0\" encoding=\"UTF-8\" standalone=\"no\"?>\n",
       "<!DOCTYPE svg PUBLIC \"-//W3C//DTD SVG 1.1//EN\"\n",
       " \"http://www.w3.org/Graphics/SVG/1.1/DTD/svg11.dtd\">\n",
       "<!-- Generated by graphviz version 2.40.1 (20161225.0304)\n",
       " -->\n",
       "<!-- Title: %3 Pages: 1 -->\n",
       "<svg width=\"173pt\" height=\"193pt\"\n",
       " viewBox=\"0.00 0.00 172.88 192.95\" xmlns=\"http://www.w3.org/2000/svg\" xmlns:xlink=\"http://www.w3.org/1999/xlink\">\n",
       "<g id=\"graph0\" class=\"graph\" transform=\"scale(1 1) rotate(0) translate(4 188.9499)\">\n",
       "<title>%3</title>\n",
       "<polygon fill=\"#ffffff\" stroke=\"transparent\" points=\"-4,4 -4,-188.9499 168.875,-188.9499 168.875,4 -4,4\"/>\n",
       "<!-- 0 -->\n",
       "<g id=\"node1\" class=\"node\">\n",
       "<title>0</title>\n",
       "<ellipse fill=\"none\" stroke=\"#000000\" cx=\"82.4375\" cy=\"-135.4749\" rx=\"49.4499\" ry=\"49.4499\"/>\n",
       "<text text-anchor=\"middle\" x=\"82.4375\" y=\"-131.2749\" font-family=\"Times,serif\" font-size=\"14.00\" fill=\"#000000\">sqfeet&lt;926</text>\n",
       "</g>\n",
       "<!-- 1 -->\n",
       "<g id=\"node2\" class=\"node\">\n",
       "<title>1</title>\n",
       "<polygon fill=\"none\" stroke=\"#000000\" points=\"72.8126,-36 .0624,-36 .0624,0 72.8126,0 72.8126,-36\"/>\n",
       "<text text-anchor=\"middle\" x=\"36.4375\" y=\"-13.8\" font-family=\"Times,serif\" font-size=\"14.00\" fill=\"#000000\">leaf=1278</text>\n",
       "</g>\n",
       "<!-- 0&#45;&gt;1 -->\n",
       "<g id=\"edge1\" class=\"edge\">\n",
       "<title>0&#45;&gt;1</title>\n",
       "<path fill=\"none\" stroke=\"#0000ff\" d=\"M51.0837,-96.7577C45.4163,-87.8007 40.3236,-77.9605 37.21,-68 35.0868,-61.2079 34.244,-53.6393 34.0794,-46.4877\"/>\n",
       "<polygon fill=\"#0000ff\" stroke=\"#0000ff\" points=\"37.5795,-46.5064 34.2534,-36.4472 30.5806,-46.3851 37.5795,-46.5064\"/>\n",
       "<text text-anchor=\"middle\" x=\"71.0513\" y=\"-56.8\" font-family=\"Times,serif\" font-size=\"14.00\" fill=\"#000000\">yes, missing</text>\n",
       "</g>\n",
       "<!-- 2 -->\n",
       "<g id=\"node3\" class=\"node\">\n",
       "<title>2</title>\n",
       "<polygon fill=\"none\" stroke=\"#000000\" points=\"164.8126,-36 92.0624,-36 92.0624,0 164.8126,0 164.8126,-36\"/>\n",
       "<text text-anchor=\"middle\" x=\"128.4375\" y=\"-13.8\" font-family=\"Times,serif\" font-size=\"14.00\" fill=\"#000000\">leaf=2000</text>\n",
       "</g>\n",
       "<!-- 0&#45;&gt;2 -->\n",
       "<g id=\"edge2\" class=\"edge\">\n",
       "<title>0&#45;&gt;2</title>\n",
       "<path fill=\"none\" stroke=\"#ff0000\" d=\"M100.4859,-89.3829C106.3026,-74.5282 112.5628,-58.5408 117.6812,-45.4694\"/>\n",
       "<polygon fill=\"#ff0000\" stroke=\"#ff0000\" points=\"120.9593,-46.6968 121.3465,-36.109 114.4412,-44.1444 120.9593,-46.6968\"/>\n",
       "<text text-anchor=\"middle\" x=\"120.4375\" y=\"-56.8\" font-family=\"Times,serif\" font-size=\"14.00\" fill=\"#000000\">no</text>\n",
       "</g>\n",
       "</g>\n",
       "</svg>\n"
      ],
      "text/plain": [
       "<graphviz.dot.Digraph at 0x1a26963e80>"
      ]
     },
     "execution_count": 13,
     "metadata": {},
     "output_type": "execute_result"
    }
   ],
   "source": [
    "df = pd.read_csv(\"./data.csv\")\n",
    "df[\"index_\"] = range(len(df))\n",
    "\n",
    "df[\"F0\"] = df.rent.mean()\n",
    "df[\"F0_residual\"] = df[\"rent\"] - df[\"F0\"] \n",
    "df[\"h1\"] = mse_find_best_split(df, \"F0_residual\")\n",
    "\n",
    "df[\"F1\"] = df[\"F0\"] + df[\"h1\"]\n",
    "\n",
    "xgb = xgboost.XGBRegressor(base_score=0, booster='gbtree', colsample_bylevel=1,\n",
    "       colsample_bytree=1, gamma=0, learning_rate=1, max_delta_step=0,\n",
    "       max_depth=1, min_child_weight=1, missing=None, n_estimators=1,\n",
    "       n_jobs=1, nthread=None, objective='reg:linear', random_state=0,\n",
    "       reg_alpha=0, reg_lambda=0, scale_pos_weight=1, seed=None,\n",
    "       silent=True, subsample=1)\n",
    "\n",
    "X = df[[\"sqfeet\"]]\n",
    "y = df.rent\n",
    "\n",
    "xgb.fit(X, y)\n",
    "y_pred = xgb.predict(X)\n",
    "\n",
    "col_to_check = \"F1\"\n",
    "print(np.round(df[col_to_check].values, 2))\n",
    "print(np.round(y_pred, 2) )\n",
    "print(np.round(mean_squared_error(df[col_to_check], y_pred), 4))\n",
    "\n",
    "xgboost.to_graphviz(xgb, num_trees=0)"
   ]
  },
  {
   "cell_type": "code",
   "execution_count": null,
   "metadata": {},
   "outputs": [],
   "source": []
  },
  {
   "cell_type": "markdown",
   "metadata": {},
   "source": [
    "#### Two trees (checked, ok)"
   ]
  },
  {
   "cell_type": "code",
   "execution_count": 14,
   "metadata": {},
   "outputs": [
    {
     "name": "stdout",
     "output_type": "stream",
     "text": [
      "[1180. 1180. 1327. 1327. 1327. 2049.]\n",
      "[1180. 1180. 1327. 1327. 1327. 2049.]\n",
      "0.0\n"
     ]
    },
    {
     "data": {
      "image/svg+xml": [
       "<?xml version=\"1.0\" encoding=\"UTF-8\" standalone=\"no\"?>\n",
       "<!DOCTYPE svg PUBLIC \"-//W3C//DTD SVG 1.1//EN\"\n",
       " \"http://www.w3.org/Graphics/SVG/1.1/DTD/svg11.dtd\">\n",
       "<!-- Generated by graphviz version 2.40.1 (20161225.0304)\n",
       " -->\n",
       "<!-- Title: %3 Pages: 1 -->\n",
       "<svg width=\"173pt\" height=\"193pt\"\n",
       " viewBox=\"0.00 0.00 172.88 192.95\" xmlns=\"http://www.w3.org/2000/svg\" xmlns:xlink=\"http://www.w3.org/1999/xlink\">\n",
       "<g id=\"graph0\" class=\"graph\" transform=\"scale(1 1) rotate(0) translate(4 188.9499)\">\n",
       "<title>%3</title>\n",
       "<polygon fill=\"#ffffff\" stroke=\"transparent\" points=\"-4,4 -4,-188.9499 168.875,-188.9499 168.875,4 -4,4\"/>\n",
       "<!-- 0 -->\n",
       "<g id=\"node1\" class=\"node\">\n",
       "<title>0</title>\n",
       "<ellipse fill=\"none\" stroke=\"#000000\" cx=\"82.4375\" cy=\"-135.4749\" rx=\"49.4499\" ry=\"49.4499\"/>\n",
       "<text text-anchor=\"middle\" x=\"82.4375\" y=\"-131.2749\" font-family=\"Times,serif\" font-size=\"14.00\" fill=\"#000000\">sqfeet&lt;926</text>\n",
       "</g>\n",
       "<!-- 1 -->\n",
       "<g id=\"node2\" class=\"node\">\n",
       "<title>1</title>\n",
       "<polygon fill=\"none\" stroke=\"#000000\" points=\"72.8126,-36 .0624,-36 .0624,0 72.8126,0 72.8126,-36\"/>\n",
       "<text text-anchor=\"middle\" x=\"36.4375\" y=\"-13.8\" font-family=\"Times,serif\" font-size=\"14.00\" fill=\"#000000\">leaf=1278</text>\n",
       "</g>\n",
       "<!-- 0&#45;&gt;1 -->\n",
       "<g id=\"edge1\" class=\"edge\">\n",
       "<title>0&#45;&gt;1</title>\n",
       "<path fill=\"none\" stroke=\"#0000ff\" d=\"M51.0837,-96.7577C45.4163,-87.8007 40.3236,-77.9605 37.21,-68 35.0868,-61.2079 34.244,-53.6393 34.0794,-46.4877\"/>\n",
       "<polygon fill=\"#0000ff\" stroke=\"#0000ff\" points=\"37.5795,-46.5064 34.2534,-36.4472 30.5806,-46.3851 37.5795,-46.5064\"/>\n",
       "<text text-anchor=\"middle\" x=\"71.0513\" y=\"-56.8\" font-family=\"Times,serif\" font-size=\"14.00\" fill=\"#000000\">yes, missing</text>\n",
       "</g>\n",
       "<!-- 2 -->\n",
       "<g id=\"node3\" class=\"node\">\n",
       "<title>2</title>\n",
       "<polygon fill=\"none\" stroke=\"#000000\" points=\"164.8126,-36 92.0624,-36 92.0624,0 164.8126,0 164.8126,-36\"/>\n",
       "<text text-anchor=\"middle\" x=\"128.4375\" y=\"-13.8\" font-family=\"Times,serif\" font-size=\"14.00\" fill=\"#000000\">leaf=2000</text>\n",
       "</g>\n",
       "<!-- 0&#45;&gt;2 -->\n",
       "<g id=\"edge2\" class=\"edge\">\n",
       "<title>0&#45;&gt;2</title>\n",
       "<path fill=\"none\" stroke=\"#ff0000\" d=\"M100.4859,-89.3829C106.3026,-74.5282 112.5628,-58.5408 117.6812,-45.4694\"/>\n",
       "<polygon fill=\"#ff0000\" stroke=\"#ff0000\" points=\"120.9593,-46.6968 121.3465,-36.109 114.4412,-44.1444 120.9593,-46.6968\"/>\n",
       "<text text-anchor=\"middle\" x=\"120.4375\" y=\"-56.8\" font-family=\"Times,serif\" font-size=\"14.00\" fill=\"#000000\">no</text>\n",
       "</g>\n",
       "</g>\n",
       "</svg>\n"
      ],
      "text/plain": [
       "<graphviz.dot.Digraph at 0x1a269e8b70>"
      ]
     },
     "execution_count": 14,
     "metadata": {},
     "output_type": "execute_result"
    }
   ],
   "source": [
    "df = pd.read_csv(\"./data.csv\")\n",
    "df[\"index_\"] = range(len(df))\n",
    "\n",
    "df[\"F0\"] = df.rent.mean()\n",
    "df[\"F0_residual\"] = df[\"rent\"] - df[\"F0\"] \n",
    "df[\"h1\"] = mse_find_best_split(df, \"F0_residual\")\n",
    "\n",
    "df[\"F1\"] = df[\"F0\"] + df[\"h1\"]\n",
    "\n",
    "df[\"F1_residual\"] = df[\"rent\"] - df[\"F1\"] \n",
    "df[\"h2\"] = mse_find_best_split(df, \"F1_residual\")\n",
    "\n",
    "df[\"F2\"] = df[\"F1\"] + df[\"h2\"]\n",
    "\n",
    "xgb = xgboost.XGBRegressor(base_score=0, booster='gbtree', colsample_bylevel=1,\n",
    "       colsample_bytree=1, gamma=0, learning_rate=1, max_delta_step=0,\n",
    "       max_depth=1, min_child_weight=1, missing=None, n_estimators=2,\n",
    "       n_jobs=1, nthread=None, objective='reg:linear', random_state=0,\n",
    "       reg_alpha=0, reg_lambda=0, scale_pos_weight=1, seed=None,\n",
    "       silent=True, subsample=1)\n",
    "\n",
    "X = df[[\"sqfeet\"]]\n",
    "y = df.rent\n",
    "\n",
    "xgb.fit(X, y)\n",
    "y_pred = xgb.predict(X)\n",
    "\n",
    "col_to_check = \"F2\"\n",
    "print(np.round(df[col_to_check].values, 2))\n",
    "print(np.round(y_pred, 2) )\n",
    "print(np.round(mean_squared_error(df[col_to_check], y_pred), 4))\n",
    "f1 = xgboost.to_graphviz(xgb, num_trees=0)\n",
    "f2 = xgboost.to_graphviz(xgb, num_trees=1)\n",
    "\n",
    "f1"
   ]
  },
  {
   "cell_type": "code",
   "execution_count": 15,
   "metadata": {},
   "outputs": [
    {
     "data": {
      "image/svg+xml": [
       "<?xml version=\"1.0\" encoding=\"UTF-8\" standalone=\"no\"?>\n",
       "<!DOCTYPE svg PUBLIC \"-//W3C//DTD SVG 1.1//EN\"\n",
       " \"http://www.w3.org/Graphics/SVG/1.1/DTD/svg11.dtd\">\n",
       "<!-- Generated by graphviz version 2.40.1 (20161225.0304)\n",
       " -->\n",
       "<!-- Title: %3 Pages: 1 -->\n",
       "<svg width=\"161pt\" height=\"193pt\"\n",
       " viewBox=\"0.00 0.00 161.21 192.95\" xmlns=\"http://www.w3.org/2000/svg\" xmlns:xlink=\"http://www.w3.org/1999/xlink\">\n",
       "<g id=\"graph0\" class=\"graph\" transform=\"scale(1 1) rotate(0) translate(4 188.9499)\">\n",
       "<title>%3</title>\n",
       "<polygon fill=\"#ffffff\" stroke=\"transparent\" points=\"-4,4 -4,-188.9499 157.2061,-188.9499 157.2061,4 -4,4\"/>\n",
       "<!-- 0 -->\n",
       "<g id=\"node1\" class=\"node\">\n",
       "<title>0</title>\n",
       "<ellipse fill=\"none\" stroke=\"#000000\" cx=\"77.7686\" cy=\"-135.4749\" rx=\"49.4499\" ry=\"49.4499\"/>\n",
       "<text text-anchor=\"middle\" x=\"77.7686\" y=\"-131.2749\" font-family=\"Times,serif\" font-size=\"14.00\" fill=\"#000000\">sqfeet&lt;826</text>\n",
       "</g>\n",
       "<!-- 1 -->\n",
       "<g id=\"node2\" class=\"node\">\n",
       "<title>1</title>\n",
       "<polygon fill=\"none\" stroke=\"#000000\" points=\"63.3073,-36 .2298,-36 .2298,0 63.3073,0 63.3073,-36\"/>\n",
       "<text text-anchor=\"middle\" x=\"31.7686\" y=\"-13.8\" font-family=\"Times,serif\" font-size=\"14.00\" fill=\"#000000\">leaf=&#45;98</text>\n",
       "</g>\n",
       "<!-- 0&#45;&gt;1 -->\n",
       "<g id=\"edge1\" class=\"edge\">\n",
       "<title>0&#45;&gt;1</title>\n",
       "<path fill=\"none\" stroke=\"#0000ff\" d=\"M46.4147,-96.7577C40.7473,-87.8007 35.6547,-77.9605 32.541,-68 30.4178,-61.2079 29.5751,-53.6393 29.4105,-46.4877\"/>\n",
       "<polygon fill=\"#0000ff\" stroke=\"#0000ff\" points=\"32.9106,-46.5064 29.5844,-36.4472 25.9116,-46.3851 32.9106,-46.5064\"/>\n",
       "<text text-anchor=\"middle\" x=\"67.3823\" y=\"-56.8\" font-family=\"Times,serif\" font-size=\"14.00\" fill=\"#000000\">yes, missing</text>\n",
       "</g>\n",
       "<!-- 2 -->\n",
       "<g id=\"node3\" class=\"node\">\n",
       "<title>2</title>\n",
       "<polygon fill=\"none\" stroke=\"#000000\" points=\"153.1437,-36 94.3934,-36 94.3934,0 153.1437,0 153.1437,-36\"/>\n",
       "<text text-anchor=\"middle\" x=\"123.7686\" y=\"-13.8\" font-family=\"Times,serif\" font-size=\"14.00\" fill=\"#000000\">leaf=49</text>\n",
       "</g>\n",
       "<!-- 0&#45;&gt;2 -->\n",
       "<g id=\"edge2\" class=\"edge\">\n",
       "<title>0&#45;&gt;2</title>\n",
       "<path fill=\"none\" stroke=\"#ff0000\" d=\"M95.8169,-89.3829C101.6336,-74.5282 107.8939,-58.5408 113.0123,-45.4694\"/>\n",
       "<polygon fill=\"#ff0000\" stroke=\"#ff0000\" points=\"116.2904,-46.6968 116.6775,-36.109 109.7723,-44.1444 116.2904,-46.6968\"/>\n",
       "<text text-anchor=\"middle\" x=\"115.7686\" y=\"-56.8\" font-family=\"Times,serif\" font-size=\"14.00\" fill=\"#000000\">no</text>\n",
       "</g>\n",
       "</g>\n",
       "</svg>\n"
      ],
      "text/plain": [
       "<graphviz.dot.Digraph at 0x1a269e8e10>"
      ]
     },
     "execution_count": 15,
     "metadata": {},
     "output_type": "execute_result"
    }
   ],
   "source": [
    "f2"
   ]
  },
  {
   "cell_type": "markdown",
   "metadata": {},
   "source": [
    "## Objective = mae"
   ]
  },
  {
   "cell_type": "code",
   "execution_count": 16,
   "metadata": {},
   "outputs": [
    {
     "data": {
      "text/plain": [
       "[(1.0, 1, -238.33, -98.33),\n",
       " (1.0, 2, -218.33, -23.33),\n",
       " (3.0, 3, -198.33, 51.67),\n",
       " (5.0, 4, -158.33, 326.67),\n",
       " (2.0, 5, -118.33, 601.67)]"
      ]
     },
     "execution_count": 16,
     "metadata": {},
     "output_type": "execute_result"
    }
   ],
   "source": [
    "def mae_gain_for_evey_split(df, f_derivate_col, residual_column):\n",
    "    \n",
    "    gain_list =  list()\n",
    "    residual_mean = df[f_derivate_col].mean()\n",
    "    for i in range(1, len(df)):\n",
    "        gain = 0\n",
    "        first_half_gain = 0 \n",
    "        second_half_gain = 0\n",
    "        first_half_mean = 0\n",
    "        second_half_mean = 0\n",
    "        \n",
    "        first_half_median = 0 \n",
    "        second_half_median = 0\n",
    "        first_half = df.iloc[:i,:]\n",
    "        second_half = df.iloc[i:,:]\n",
    "        \n",
    "        first_half_mean = np.round(first_half[f_derivate_col].mean(), 2)\n",
    "        second_half_mean = np.round(second_half[f_derivate_col].mean(), 2)\n",
    "\n",
    "        first_half_gain = np.sum(np.abs(residual_mean - first_half[f_derivate_col])) - \\\n",
    "                                np.sum(np.abs(first_half_mean - first_half[f_derivate_col]))\n",
    "        second_half_gain = np.sum(np.abs(residual_mean - second_half[f_derivate_col])) - \\\n",
    "                                np.sum(np.abs(second_half_mean - second_half[f_derivate_col]))\n",
    "        \n",
    "        \n",
    "        first_half_median = round(first_half[residual_column].median(), 2)\n",
    "        second_half_median = round(second_half[residual_column].median(), 2)\n",
    "        \n",
    "        gain = np.round(first_half_gain + second_half_gain, 0)\n",
    "        gain_list.append((gain, i, first_half_median, second_half_median)) # \"gain\" when splitting at index \"i\", note that\n",
    "                                    # \"index i\" mean splitting df into df[:i] and df[i:]\n",
    "    return gain_list\n",
    "\n",
    "def mae_find_best_split(df, f_derivate_col, residual_column):\n",
    "    gain_list= mae_gain_for_evey_split(df, f_derivate_col, residual_column)\n",
    "    best_gain, best_index, first_half_median, second_half_median = max(gain_list)\n",
    "    \n",
    "    new_col = df.apply(lambda x: first_half_median if x[\"index_\"] < best_index else second_half_median, 1)\n",
    "    return new_col\n",
    "\n",
    "## test:\n",
    "df[\"F0\"] = df.rent.mean()\n",
    "df[\"F0_f'\"] = df[\"rent\"] - df[\"F0\"] \n",
    "df[\"F0_f'\"] = np.sign(df[\"F0_f'\"]) \n",
    "mae_gain_for_evey_split(df,  \"F0_f'\", \"F0_residual\")\n"
   ]
  },
  {
   "cell_type": "markdown",
   "metadata": {},
   "source": [
    "### Check with normal GBT (Sklearn package)\n",
    "#### One Tree (checked, ok)"
   ]
  },
  {
   "cell_type": "code",
   "execution_count": 17,
   "metadata": {},
   "outputs": [
    {
     "name": "stdout",
     "output_type": "stream",
     "text": [
      "290.0\n"
     ]
    },
    {
     "data": {
      "text/html": [
       "<div>\n",
       "<style scoped>\n",
       "    .dataframe tbody tr th:only-of-type {\n",
       "        vertical-align: middle;\n",
       "    }\n",
       "\n",
       "    .dataframe tbody tr th {\n",
       "        vertical-align: top;\n",
       "    }\n",
       "\n",
       "    .dataframe thead th {\n",
       "        text-align: right;\n",
       "    }\n",
       "</style>\n",
       "<table border=\"1\" class=\"dataframe\">\n",
       "  <thead>\n",
       "    <tr style=\"text-align: right;\">\n",
       "      <th></th>\n",
       "      <th>sqfeet</th>\n",
       "      <th>rent</th>\n",
       "      <th>index_</th>\n",
       "      <th>F0</th>\n",
       "      <th>F0_residual</th>\n",
       "      <th>F0_f'</th>\n",
       "      <th>h1</th>\n",
       "      <th>F1</th>\n",
       "      <th>F0_error</th>\n",
       "      <th>F1_error</th>\n",
       "    </tr>\n",
       "  </thead>\n",
       "  <tbody>\n",
       "    <tr>\n",
       "      <th>0</th>\n",
       "      <td>750</td>\n",
       "      <td>1160</td>\n",
       "      <td>0</td>\n",
       "      <td>1290.0</td>\n",
       "      <td>-130.0</td>\n",
       "      <td>-1.0</td>\n",
       "      <td>-90.0</td>\n",
       "      <td>1200.0</td>\n",
       "      <td>130.0</td>\n",
       "      <td>40.0</td>\n",
       "    </tr>\n",
       "    <tr>\n",
       "      <th>1</th>\n",
       "      <td>800</td>\n",
       "      <td>1200</td>\n",
       "      <td>1</td>\n",
       "      <td>1290.0</td>\n",
       "      <td>-90.0</td>\n",
       "      <td>-1.0</td>\n",
       "      <td>-90.0</td>\n",
       "      <td>1200.0</td>\n",
       "      <td>90.0</td>\n",
       "      <td>0.0</td>\n",
       "    </tr>\n",
       "    <tr>\n",
       "      <th>2</th>\n",
       "      <td>850</td>\n",
       "      <td>1280</td>\n",
       "      <td>2</td>\n",
       "      <td>1290.0</td>\n",
       "      <td>-10.0</td>\n",
       "      <td>-1.0</td>\n",
       "      <td>-90.0</td>\n",
       "      <td>1200.0</td>\n",
       "      <td>10.0</td>\n",
       "      <td>80.0</td>\n",
       "    </tr>\n",
       "    <tr>\n",
       "      <th>3</th>\n",
       "      <td>860</td>\n",
       "      <td>1300</td>\n",
       "      <td>3</td>\n",
       "      <td>1290.0</td>\n",
       "      <td>10.0</td>\n",
       "      <td>1.0</td>\n",
       "      <td>160.0</td>\n",
       "      <td>1450.0</td>\n",
       "      <td>10.0</td>\n",
       "      <td>150.0</td>\n",
       "    </tr>\n",
       "    <tr>\n",
       "      <th>4</th>\n",
       "      <td>900</td>\n",
       "      <td>1450</td>\n",
       "      <td>4</td>\n",
       "      <td>1290.0</td>\n",
       "      <td>160.0</td>\n",
       "      <td>1.0</td>\n",
       "      <td>160.0</td>\n",
       "      <td>1450.0</td>\n",
       "      <td>160.0</td>\n",
       "      <td>0.0</td>\n",
       "    </tr>\n",
       "    <tr>\n",
       "      <th>5</th>\n",
       "      <td>950</td>\n",
       "      <td>2000</td>\n",
       "      <td>5</td>\n",
       "      <td>1290.0</td>\n",
       "      <td>710.0</td>\n",
       "      <td>1.0</td>\n",
       "      <td>160.0</td>\n",
       "      <td>1450.0</td>\n",
       "      <td>710.0</td>\n",
       "      <td>550.0</td>\n",
       "    </tr>\n",
       "  </tbody>\n",
       "</table>\n",
       "</div>"
      ],
      "text/plain": [
       "   sqfeet  rent  index_      F0  F0_residual  F0_f'     h1      F1  F0_error  \\\n",
       "0     750  1160       0  1290.0       -130.0   -1.0  -90.0  1200.0     130.0   \n",
       "1     800  1200       1  1290.0        -90.0   -1.0  -90.0  1200.0      90.0   \n",
       "2     850  1280       2  1290.0        -10.0   -1.0  -90.0  1200.0      10.0   \n",
       "3     860  1300       3  1290.0         10.0    1.0  160.0  1450.0      10.0   \n",
       "4     900  1450       4  1290.0        160.0    1.0  160.0  1450.0     160.0   \n",
       "5     950  2000       5  1290.0        710.0    1.0  160.0  1450.0     710.0   \n",
       "\n",
       "   F1_error  \n",
       "0      40.0  \n",
       "1       0.0  \n",
       "2      80.0  \n",
       "3     150.0  \n",
       "4       0.0  \n",
       "5     550.0  "
      ]
     },
     "execution_count": 17,
     "metadata": {},
     "output_type": "execute_result"
    }
   ],
   "source": [
    "df = pd.read_csv(\"./data.csv\")\n",
    "df[\"index_\"] = range(len(df))\n",
    "\n",
    "\n",
    "df[\"F0\"] = df.rent.median()\n",
    "df[\"F0_residual\"] = df[\"rent\"] - df[\"F0\"] \n",
    "df[\"F0_f'\"] = np.sign(df[\"F0_residual\"] )\n",
    "df[\"h1\"] = mae_find_best_split(df, \"F0_f'\", \"F0_residual\")\n",
    "\n",
    "df[\"F1\"] = df[\"F0\"] + df[\"h1\"]\n",
    "df[\"F0_error\"] = np.abs(df[\"rent\"] - df[\"F0\"])\n",
    "df[\"F1_error\"] = np.abs(df[\"rent\"] - df[\"F1\"])\n",
    "\n",
    "\n",
    "F1_gain = np.round( df[\"F0_error\"].sum() -  df[\"F1_error\"].sum(), 0)\n",
    "print(F1_gain)\n",
    "\n",
    "df"
   ]
  },
  {
   "cell_type": "code",
   "execution_count": 18,
   "metadata": {},
   "outputs": [
    {
     "name": "stdout",
     "output_type": "stream",
     "text": [
      "[1200. 1200. 1200. 1450. 1450. 1450.]\n",
      "[1200. 1200. 1200. 1450. 1450. 1450.]\n"
     ]
    },
    {
     "data": {
      "text/plain": [
       "0.0"
      ]
     },
     "execution_count": 18,
     "metadata": {},
     "output_type": "execute_result"
    }
   ],
   "source": [
    "from sklearn.ensemble import GradientBoostingRegressor\n",
    "from sklearn import ensemble\n",
    "model = GradientBoostingRegressor(alpha=0.9, criterion='mae', init=None,\n",
    "             learning_rate=1, loss='lad', max_depth=1, max_features=None,\n",
    "             max_leaf_nodes=None, min_impurity_decrease=0.0,\n",
    "             min_impurity_split=None, min_samples_leaf=1,\n",
    "             min_samples_split=1.0, min_weight_fraction_leaf=0.0,\n",
    "             n_estimators=1, n_iter_no_change=None, presort='auto',\n",
    "             random_state=None, subsample=1.0, tol=0.000001,\n",
    "             validation_fraction=0, verbose=0, warm_start=False)\n",
    "\n",
    "X = df[[\"sqfeet\"]]\n",
    "y = df.rent\n",
    "\n",
    "model.fit(X, y)\n",
    "y_pred = model.predict(X)\n",
    "\n",
    "\n",
    "col_to_check = \"F1\"\n",
    "print(np.round(df[col_to_check].values, 2))\n",
    "print(y_pred)\n",
    "np.round(mean_squared_error(df[col_to_check], y_pred), 4)"
   ]
  },
  {
   "cell_type": "markdown",
   "metadata": {},
   "source": [
    "#### Two trees"
   ]
  },
  {
   "cell_type": "code",
   "execution_count": 19,
   "metadata": {},
   "outputs": [
    {
     "name": "stdout",
     "output_type": "stream",
     "text": [
      "550.0\n"
     ]
    },
    {
     "data": {
      "text/html": [
       "<div>\n",
       "<style scoped>\n",
       "    .dataframe tbody tr th:only-of-type {\n",
       "        vertical-align: middle;\n",
       "    }\n",
       "\n",
       "    .dataframe tbody tr th {\n",
       "        vertical-align: top;\n",
       "    }\n",
       "\n",
       "    .dataframe thead th {\n",
       "        text-align: right;\n",
       "    }\n",
       "</style>\n",
       "<table border=\"1\" class=\"dataframe\">\n",
       "  <thead>\n",
       "    <tr style=\"text-align: right;\">\n",
       "      <th></th>\n",
       "      <th>sqfeet</th>\n",
       "      <th>rent</th>\n",
       "      <th>index_</th>\n",
       "      <th>F0</th>\n",
       "      <th>F0_residual</th>\n",
       "      <th>F0_f'</th>\n",
       "      <th>h1</th>\n",
       "      <th>F1</th>\n",
       "      <th>F1_residual</th>\n",
       "      <th>F1_f'</th>\n",
       "      <th>h2</th>\n",
       "      <th>F2</th>\n",
       "      <th>F1_error</th>\n",
       "      <th>F2_error</th>\n",
       "    </tr>\n",
       "  </thead>\n",
       "  <tbody>\n",
       "    <tr>\n",
       "      <th>0</th>\n",
       "      <td>750</td>\n",
       "      <td>1160</td>\n",
       "      <td>0</td>\n",
       "      <td>1290.0</td>\n",
       "      <td>-130.0</td>\n",
       "      <td>-1.0</td>\n",
       "      <td>-90.0</td>\n",
       "      <td>1200.0</td>\n",
       "      <td>-40.0</td>\n",
       "      <td>-1.0</td>\n",
       "      <td>0.0</td>\n",
       "      <td>1200.0</td>\n",
       "      <td>40.0</td>\n",
       "      <td>40.0</td>\n",
       "    </tr>\n",
       "    <tr>\n",
       "      <th>1</th>\n",
       "      <td>800</td>\n",
       "      <td>1200</td>\n",
       "      <td>1</td>\n",
       "      <td>1290.0</td>\n",
       "      <td>-90.0</td>\n",
       "      <td>-1.0</td>\n",
       "      <td>-90.0</td>\n",
       "      <td>1200.0</td>\n",
       "      <td>0.0</td>\n",
       "      <td>0.0</td>\n",
       "      <td>0.0</td>\n",
       "      <td>1200.0</td>\n",
       "      <td>0.0</td>\n",
       "      <td>0.0</td>\n",
       "    </tr>\n",
       "    <tr>\n",
       "      <th>2</th>\n",
       "      <td>850</td>\n",
       "      <td>1280</td>\n",
       "      <td>2</td>\n",
       "      <td>1290.0</td>\n",
       "      <td>-10.0</td>\n",
       "      <td>-1.0</td>\n",
       "      <td>-90.0</td>\n",
       "      <td>1200.0</td>\n",
       "      <td>80.0</td>\n",
       "      <td>1.0</td>\n",
       "      <td>0.0</td>\n",
       "      <td>1200.0</td>\n",
       "      <td>80.0</td>\n",
       "      <td>80.0</td>\n",
       "    </tr>\n",
       "    <tr>\n",
       "      <th>3</th>\n",
       "      <td>860</td>\n",
       "      <td>1300</td>\n",
       "      <td>3</td>\n",
       "      <td>1290.0</td>\n",
       "      <td>10.0</td>\n",
       "      <td>1.0</td>\n",
       "      <td>160.0</td>\n",
       "      <td>1450.0</td>\n",
       "      <td>-150.0</td>\n",
       "      <td>-1.0</td>\n",
       "      <td>0.0</td>\n",
       "      <td>1450.0</td>\n",
       "      <td>150.0</td>\n",
       "      <td>150.0</td>\n",
       "    </tr>\n",
       "    <tr>\n",
       "      <th>4</th>\n",
       "      <td>900</td>\n",
       "      <td>1450</td>\n",
       "      <td>4</td>\n",
       "      <td>1290.0</td>\n",
       "      <td>160.0</td>\n",
       "      <td>1.0</td>\n",
       "      <td>160.0</td>\n",
       "      <td>1450.0</td>\n",
       "      <td>0.0</td>\n",
       "      <td>0.0</td>\n",
       "      <td>0.0</td>\n",
       "      <td>1450.0</td>\n",
       "      <td>0.0</td>\n",
       "      <td>0.0</td>\n",
       "    </tr>\n",
       "    <tr>\n",
       "      <th>5</th>\n",
       "      <td>950</td>\n",
       "      <td>2000</td>\n",
       "      <td>5</td>\n",
       "      <td>1290.0</td>\n",
       "      <td>710.0</td>\n",
       "      <td>1.0</td>\n",
       "      <td>160.0</td>\n",
       "      <td>1450.0</td>\n",
       "      <td>550.0</td>\n",
       "      <td>1.0</td>\n",
       "      <td>550.0</td>\n",
       "      <td>2000.0</td>\n",
       "      <td>550.0</td>\n",
       "      <td>0.0</td>\n",
       "    </tr>\n",
       "  </tbody>\n",
       "</table>\n",
       "</div>"
      ],
      "text/plain": [
       "   sqfeet  rent  index_      F0  F0_residual  F0_f'     h1      F1  \\\n",
       "0     750  1160       0  1290.0       -130.0   -1.0  -90.0  1200.0   \n",
       "1     800  1200       1  1290.0        -90.0   -1.0  -90.0  1200.0   \n",
       "2     850  1280       2  1290.0        -10.0   -1.0  -90.0  1200.0   \n",
       "3     860  1300       3  1290.0         10.0    1.0  160.0  1450.0   \n",
       "4     900  1450       4  1290.0        160.0    1.0  160.0  1450.0   \n",
       "5     950  2000       5  1290.0        710.0    1.0  160.0  1450.0   \n",
       "\n",
       "   F1_residual  F1_f'     h2      F2  F1_error  F2_error  \n",
       "0        -40.0   -1.0    0.0  1200.0      40.0      40.0  \n",
       "1          0.0    0.0    0.0  1200.0       0.0       0.0  \n",
       "2         80.0    1.0    0.0  1200.0      80.0      80.0  \n",
       "3       -150.0   -1.0    0.0  1450.0     150.0     150.0  \n",
       "4          0.0    0.0    0.0  1450.0       0.0       0.0  \n",
       "5        550.0    1.0  550.0  2000.0     550.0       0.0  "
      ]
     },
     "execution_count": 19,
     "metadata": {},
     "output_type": "execute_result"
    }
   ],
   "source": [
    "df = pd.read_csv(\"./data.csv\")\n",
    "df[\"index_\"] = range(len(df))\n",
    "\n",
    "\n",
    "df[\"F0\"] = df.rent.median()\n",
    "df[\"F0_residual\"] = df[\"rent\"] - df[\"F0\"] \n",
    "df[\"F0_f'\"] = np.sign(df[\"F0_residual\"] )\n",
    "df[\"h1\"] = mae_find_best_split(df, \"F0_f'\", \"F0_residual\")\n",
    "\n",
    "df[\"F1\"] = df[\"F0\"] + df[\"h1\"]\n",
    "df[\"F1_residual\"] = df[\"rent\"] - df[\"F1\"] \n",
    "df[\"F1_f'\"] = np.sign(df[\"F1_residual\"] )\n",
    "df[\"h2\"] = mae_find_best_split(df, \"F1_f'\", \"F1_residual\")\n",
    "df[\"F2\"] = df[\"F1\"] + df[\"h2\"]\n",
    "\n",
    "df[\"F1_error\"] = np.abs(df[\"rent\"] - df[\"F1\"])\n",
    "df[\"F2_error\"] = np.abs(df[\"rent\"] - df[\"F2\"])\n",
    "\n",
    "\n",
    "F2_gain = np.round( df[\"F1_error\"].sum() -  df[\"F2_error\"].sum(), 0)\n",
    "print(F2_gain)\n",
    "df"
   ]
  },
  {
   "cell_type": "code",
   "execution_count": 20,
   "metadata": {},
   "outputs": [
    {
     "name": "stdout",
     "output_type": "stream",
     "text": [
      "[1200. 1200. 1200. 1450. 1450. 2000.]\n",
      "[1200. 1200. 1200. 1450. 1450. 2000.]\n"
     ]
    },
    {
     "data": {
      "text/plain": [
       "0.0"
      ]
     },
     "execution_count": 20,
     "metadata": {},
     "output_type": "execute_result"
    }
   ],
   "source": [
    "from sklearn.ensemble import GradientBoostingRegressor\n",
    "from sklearn import ensemble\n",
    "model = GradientBoostingRegressor(alpha=0.9, criterion='mae', init=None,\n",
    "             learning_rate=1, loss='lad', max_depth=1, max_features=None,\n",
    "             max_leaf_nodes=None, min_impurity_decrease=0.0,\n",
    "             min_impurity_split=None, min_samples_leaf=1,\n",
    "             min_samples_split=1.0, min_weight_fraction_leaf=0.0,\n",
    "             n_estimators=2, n_iter_no_change=None, presort='auto',\n",
    "             random_state=None, subsample=1.0, tol=0.000001,\n",
    "             validation_fraction=0, verbose=0, warm_start=False)\n",
    "\n",
    "X = df[[\"sqfeet\"]]\n",
    "y = df.rent\n",
    "\n",
    "model.fit(X, y)\n",
    "y_pred = model.predict(X)\n",
    "\n",
    "\n",
    "col_to_check = \"F2\"\n",
    "print(np.round(df[col_to_check].values, 2))\n",
    "print(y_pred)\n",
    "np.round(mean_squared_error(df[col_to_check], y_pred), 4)"
   ]
  },
  {
   "cell_type": "markdown",
   "metadata": {},
   "source": [
    "### Check with Light GBM\n",
    "#### One Tree (checked, Not the same)"
   ]
  },
  {
   "cell_type": "code",
   "execution_count": 21,
   "metadata": {},
   "outputs": [
    {
     "name": "stdout",
     "output_type": "stream",
     "text": [
      "290.0\n"
     ]
    },
    {
     "data": {
      "text/html": [
       "<div>\n",
       "<style scoped>\n",
       "    .dataframe tbody tr th:only-of-type {\n",
       "        vertical-align: middle;\n",
       "    }\n",
       "\n",
       "    .dataframe tbody tr th {\n",
       "        vertical-align: top;\n",
       "    }\n",
       "\n",
       "    .dataframe thead th {\n",
       "        text-align: right;\n",
       "    }\n",
       "</style>\n",
       "<table border=\"1\" class=\"dataframe\">\n",
       "  <thead>\n",
       "    <tr style=\"text-align: right;\">\n",
       "      <th></th>\n",
       "      <th>sqfeet</th>\n",
       "      <th>rent</th>\n",
       "      <th>index_</th>\n",
       "      <th>F0</th>\n",
       "      <th>F0_residual</th>\n",
       "      <th>F0_f'</th>\n",
       "      <th>h1</th>\n",
       "      <th>F1</th>\n",
       "      <th>F0_error</th>\n",
       "      <th>F1_error</th>\n",
       "    </tr>\n",
       "  </thead>\n",
       "  <tbody>\n",
       "    <tr>\n",
       "      <th>0</th>\n",
       "      <td>750</td>\n",
       "      <td>1160</td>\n",
       "      <td>0</td>\n",
       "      <td>1290.0</td>\n",
       "      <td>-130.0</td>\n",
       "      <td>-1.0</td>\n",
       "      <td>-90.0</td>\n",
       "      <td>1200.0</td>\n",
       "      <td>130.0</td>\n",
       "      <td>40.0</td>\n",
       "    </tr>\n",
       "    <tr>\n",
       "      <th>1</th>\n",
       "      <td>800</td>\n",
       "      <td>1200</td>\n",
       "      <td>1</td>\n",
       "      <td>1290.0</td>\n",
       "      <td>-90.0</td>\n",
       "      <td>-1.0</td>\n",
       "      <td>-90.0</td>\n",
       "      <td>1200.0</td>\n",
       "      <td>90.0</td>\n",
       "      <td>0.0</td>\n",
       "    </tr>\n",
       "    <tr>\n",
       "      <th>2</th>\n",
       "      <td>850</td>\n",
       "      <td>1280</td>\n",
       "      <td>2</td>\n",
       "      <td>1290.0</td>\n",
       "      <td>-10.0</td>\n",
       "      <td>-1.0</td>\n",
       "      <td>-90.0</td>\n",
       "      <td>1200.0</td>\n",
       "      <td>10.0</td>\n",
       "      <td>80.0</td>\n",
       "    </tr>\n",
       "    <tr>\n",
       "      <th>3</th>\n",
       "      <td>860</td>\n",
       "      <td>1300</td>\n",
       "      <td>3</td>\n",
       "      <td>1290.0</td>\n",
       "      <td>10.0</td>\n",
       "      <td>1.0</td>\n",
       "      <td>160.0</td>\n",
       "      <td>1450.0</td>\n",
       "      <td>10.0</td>\n",
       "      <td>150.0</td>\n",
       "    </tr>\n",
       "    <tr>\n",
       "      <th>4</th>\n",
       "      <td>900</td>\n",
       "      <td>1450</td>\n",
       "      <td>4</td>\n",
       "      <td>1290.0</td>\n",
       "      <td>160.0</td>\n",
       "      <td>1.0</td>\n",
       "      <td>160.0</td>\n",
       "      <td>1450.0</td>\n",
       "      <td>160.0</td>\n",
       "      <td>0.0</td>\n",
       "    </tr>\n",
       "    <tr>\n",
       "      <th>5</th>\n",
       "      <td>950</td>\n",
       "      <td>2000</td>\n",
       "      <td>5</td>\n",
       "      <td>1290.0</td>\n",
       "      <td>710.0</td>\n",
       "      <td>1.0</td>\n",
       "      <td>160.0</td>\n",
       "      <td>1450.0</td>\n",
       "      <td>710.0</td>\n",
       "      <td>550.0</td>\n",
       "    </tr>\n",
       "  </tbody>\n",
       "</table>\n",
       "</div>"
      ],
      "text/plain": [
       "   sqfeet  rent  index_      F0  F0_residual  F0_f'     h1      F1  F0_error  \\\n",
       "0     750  1160       0  1290.0       -130.0   -1.0  -90.0  1200.0     130.0   \n",
       "1     800  1200       1  1290.0        -90.0   -1.0  -90.0  1200.0      90.0   \n",
       "2     850  1280       2  1290.0        -10.0   -1.0  -90.0  1200.0      10.0   \n",
       "3     860  1300       3  1290.0         10.0    1.0  160.0  1450.0      10.0   \n",
       "4     900  1450       4  1290.0        160.0    1.0  160.0  1450.0     160.0   \n",
       "5     950  2000       5  1290.0        710.0    1.0  160.0  1450.0     710.0   \n",
       "\n",
       "   F1_error  \n",
       "0      40.0  \n",
       "1       0.0  \n",
       "2      80.0  \n",
       "3     150.0  \n",
       "4       0.0  \n",
       "5     550.0  "
      ]
     },
     "execution_count": 21,
     "metadata": {},
     "output_type": "execute_result"
    }
   ],
   "source": [
    "df = pd.read_csv(\"./data.csv\")\n",
    "df[\"index_\"] = range(len(df))\n",
    "\n",
    "\n",
    "df[\"F0\"] = df.rent.median()\n",
    "df[\"F0_residual\"] = df[\"rent\"] - df[\"F0\"] \n",
    "df[\"F0_f'\"] = np.sign(df[\"F0_residual\"] )\n",
    "df[\"h1\"] = mae_find_best_split(df, \"F0_f'\", \"F0_residual\")\n",
    "\n",
    "df[\"F1\"] = df[\"F0\"] + df[\"h1\"]\n",
    "\n",
    "df[\"F0_error\"] = np.abs(df[\"rent\"] - df[\"F0\"])\n",
    "df[\"F1_error\"] = np.abs(df[\"rent\"] - df[\"F1\"])\n",
    "F1_gain = np.round( df[\"F0_error\"].sum() -  df[\"F1_error\"].sum(), 0)\n",
    "print(F1_gain)\n",
    "\n",
    "df"
   ]
  },
  {
   "cell_type": "code",
   "execution_count": 22,
   "metadata": {},
   "outputs": [
    {
     "name": "stdout",
     "output_type": "stream",
     "text": [
      "[1200. 1200. 1200. 1450. 1450. 1450.]\n",
      "[1240. 1240. 1240. 1725. 1725. 1725.]\n"
     ]
    },
    {
     "data": {
      "text/plain": [
       "38612.5"
      ]
     },
     "execution_count": 22,
     "metadata": {},
     "output_type": "execute_result"
    }
   ],
   "source": [
    "lgbm = lightgbm.LGBMRegressor(boosting_type='gbdt', class_weight=None, colsample_bytree=1.0,\n",
    "       importance_type='split', learning_rate=1, max_depth=1,\n",
    "       min_child_samples=1, min_child_weight=0, min_split_gain=0.0,\n",
    "       n_estimators=1, n_jobs=1, num_leaves=31, objective=\"regression_l1\",\n",
    "       random_state=None, reg_alpha=0.0, reg_lambda=0.0, silent=False,\n",
    "       subsample=1.0, subsample_for_bin=2000, subsample_freq=0)\n",
    "\n",
    "X = df[[\"sqfeet\"]]\n",
    "y = df.rent\n",
    "\n",
    "lgbm.fit(X, y)\n",
    "y_pred = lgbm.predict(X)\n",
    "\n",
    "col_to_check = \"F1\"\n",
    "print(np.round(df[col_to_check].values, 2))\n",
    "print(np.round(y_pred, 2) )\n",
    "np.round(mean_squared_error(df[col_to_check], y_pred), 4)"
   ]
  },
  {
   "cell_type": "code",
   "execution_count": 23,
   "metadata": {},
   "outputs": [
    {
     "data": {
      "image/svg+xml": [
       "<?xml version=\"1.0\" encoding=\"UTF-8\" standalone=\"no\"?>\n",
       "<!DOCTYPE svg PUBLIC \"-//W3C//DTD SVG 1.1//EN\"\n",
       " \"http://www.w3.org/Graphics/SVG/1.1/DTD/svg11.dtd\">\n",
       "<!-- Generated by graphviz version 2.40.1 (20161225.0304)\n",
       " -->\n",
       "<!-- Title: %3 Pages: 1 -->\n",
       "<svg width=\"336pt\" height=\"239pt\"\n",
       " viewBox=\"0.00 0.00 336.12 239.02\" xmlns=\"http://www.w3.org/2000/svg\" xmlns:xlink=\"http://www.w3.org/1999/xlink\">\n",
       "<g id=\"graph0\" class=\"graph\" transform=\"scale(1 1) rotate(0) translate(4 235.0193)\">\n",
       "<title>%3</title>\n",
       "<polygon fill=\"#ffffff\" stroke=\"transparent\" points=\"-4,4 -4,-235.0193 332.1202,-235.0193 332.1202,4 -4,4\"/>\n",
       "<!-- split0 -->\n",
       "<g id=\"node1\" class=\"node\">\n",
       "<title>split0</title>\n",
       "<ellipse fill=\"none\" stroke=\"#000000\" cx=\"163.5601\" cy=\"-175.865\" rx=\"137.0139\" ry=\"55.3091\"/>\n",
       "<text text-anchor=\"middle\" x=\"163.5601\" y=\"-199.665\" font-family=\"Times,serif\" font-size=\"14.00\" fill=\"#000000\">split_feature_name: sqfeet</text>\n",
       "<text text-anchor=\"middle\" x=\"163.5601\" y=\"-185.665\" font-family=\"Times,serif\" font-size=\"14.00\" fill=\"#000000\">threshold: 855.0000000000001</text>\n",
       "<text text-anchor=\"middle\" x=\"163.5601\" y=\"-171.665\" font-family=\"Times,serif\" font-size=\"14.00\" fill=\"#000000\">split_gain: 4.166669845581055</text>\n",
       "<text text-anchor=\"middle\" x=\"163.5601\" y=\"-157.665\" font-family=\"Times,serif\" font-size=\"14.00\" fill=\"#000000\">internal_value: 0</text>\n",
       "<text text-anchor=\"middle\" x=\"163.5601\" y=\"-143.665\" font-family=\"Times,serif\" font-size=\"14.00\" fill=\"#000000\">internal_count: 6</text>\n",
       "</g>\n",
       "<!-- leaf0 -->\n",
       "<g id=\"node2\" class=\"node\">\n",
       "<title>leaf0</title>\n",
       "<ellipse fill=\"none\" stroke=\"#000000\" cx=\"77.5601\" cy=\"-35.3553\" rx=\"77.6202\" ry=\"35.2113\"/>\n",
       "<text text-anchor=\"middle\" x=\"77.5601\" y=\"-45.1553\" font-family=\"Times,serif\" font-size=\"14.00\" fill=\"#000000\">leaf_index: 0</text>\n",
       "<text text-anchor=\"middle\" x=\"77.5601\" y=\"-31.1553\" font-family=\"Times,serif\" font-size=\"14.00\" fill=\"#000000\">leaf_value: 1240</text>\n",
       "<text text-anchor=\"middle\" x=\"77.5601\" y=\"-17.1553\" font-family=\"Times,serif\" font-size=\"14.00\" fill=\"#000000\">leaf_count: 3</text>\n",
       "</g>\n",
       "<!-- split0&#45;&gt;leaf0 -->\n",
       "<g id=\"edge1\" class=\"edge\">\n",
       "<title>split0&#45;&gt;leaf0</title>\n",
       "<path fill=\"none\" stroke=\"#000000\" d=\"M130.5562,-121.9421C121.6969,-107.4675 112.2383,-92.0137 103.8004,-78.2276\"/>\n",
       "<polygon fill=\"#000000\" stroke=\"#000000\" points=\"106.6251,-76.1381 98.4194,-69.436 100.6546,-79.7924 106.6251,-76.1381\"/>\n",
       "<text text-anchor=\"middle\" x=\"126.4556\" y=\"-91.5107\" font-family=\"Times,serif\" font-size=\"14.00\" fill=\"#000000\">&lt;=</text>\n",
       "</g>\n",
       "<!-- leaf1 -->\n",
       "<g id=\"node3\" class=\"node\">\n",
       "<title>leaf1</title>\n",
       "<ellipse fill=\"none\" stroke=\"#000000\" cx=\"250.5601\" cy=\"-35.3553\" rx=\"77.6202\" ry=\"35.2113\"/>\n",
       "<text text-anchor=\"middle\" x=\"250.5601\" y=\"-45.1553\" font-family=\"Times,serif\" font-size=\"14.00\" fill=\"#000000\">leaf_index: 1</text>\n",
       "<text text-anchor=\"middle\" x=\"250.5601\" y=\"-31.1553\" font-family=\"Times,serif\" font-size=\"14.00\" fill=\"#000000\">leaf_value: 1725</text>\n",
       "<text text-anchor=\"middle\" x=\"250.5601\" y=\"-17.1553\" font-family=\"Times,serif\" font-size=\"14.00\" fill=\"#000000\">leaf_count: 3</text>\n",
       "</g>\n",
       "<!-- split0&#45;&gt;leaf1 -->\n",
       "<g id=\"edge2\" class=\"edge\">\n",
       "<title>split0&#45;&gt;leaf1</title>\n",
       "<path fill=\"none\" stroke=\"#000000\" d=\"M196.9477,-121.9421C205.9101,-107.4675 215.4787,-92.0137 224.0147,-78.2276\"/>\n",
       "<polygon fill=\"#000000\" stroke=\"#000000\" points=\"227.1696,-79.7808 229.4582,-69.436 221.218,-76.0957 227.1696,-79.7808\"/>\n",
       "<text text-anchor=\"middle\" x=\"220.5078\" y=\"-91.5107\" font-family=\"Times,serif\" font-size=\"14.00\" fill=\"#000000\">&gt;</text>\n",
       "</g>\n",
       "</g>\n",
       "</svg>\n"
      ],
      "text/plain": [
       "<graphviz.dot.Digraph at 0x1a2697ee80>"
      ]
     },
     "execution_count": 23,
     "metadata": {},
     "output_type": "execute_result"
    }
   ],
   "source": [
    "lightgbm.create_tree_digraph(lgbm, tree_index=0, show_info=[\"split_gain\",\n",
    "                                                 \"internal_value\", \"internal_count\", \"leaf_count\"] )"
   ]
  },
  {
   "cell_type": "markdown",
   "metadata": {},
   "source": [
    "### Check with XGboost (can NOT)\n",
    "XGboost need second derivative loss func, which mae can't have."
   ]
  },
  {
   "cell_type": "markdown",
   "metadata": {},
   "source": [
    "# Classification"
   ]
  },
  {
   "cell_type": "code",
   "execution_count": null,
   "metadata": {},
   "outputs": [],
   "source": []
  },
  {
   "cell_type": "code",
   "execution_count": null,
   "metadata": {},
   "outputs": [],
   "source": []
  },
  {
   "cell_type": "code",
   "execution_count": null,
   "metadata": {},
   "outputs": [],
   "source": []
  },
  {
   "cell_type": "code",
   "execution_count": null,
   "metadata": {},
   "outputs": [],
   "source": []
  },
  {
   "cell_type": "code",
   "execution_count": null,
   "metadata": {},
   "outputs": [],
   "source": []
  },
  {
   "cell_type": "markdown",
   "metadata": {},
   "source": [
    "# Draft"
   ]
  },
  {
   "cell_type": "code",
   "execution_count": null,
   "metadata": {},
   "outputs": [],
   "source": [
    "kaggle = pd.read_csv(\"/Users/minhchau/Downloads/data_ori.txt\", sep=\",\")\n",
    "kaggle"
   ]
  },
  {
   "cell_type": "code",
   "execution_count": null,
   "metadata": {},
   "outputs": [],
   "source": []
  },
  {
   "cell_type": "code",
   "execution_count": null,
   "metadata": {},
   "outputs": [],
   "source": [
    "X = kaggle[[\"LikesGardening\"]]\n",
    "y = kaggle.Age\n",
    "m = lightgbm.LGBMRegressor(boosting_type='gbdt', class_weight=None, colsample_bytree=1.0,\n",
    "       importance_type='split', learning_rate=1, max_depth=1,\n",
    "       min_child_samples=1, min_child_weight=0, min_split_gain=0.0,\n",
    "       n_estimators=1, n_jobs=-1, num_leaves=31, objective=\"mae\",\n",
    "       random_state=None, reg_alpha=0.0, reg_lambda=0.0, silent=False,\n",
    "       subsample=1.0, subsample_for_bin=2000, subsample_freq=0)\n",
    "m.fit(X, y)\n",
    "lightgbm.create_tree_digraph(m, tree_index=0, show_info=[\"split_gain\",\n",
    "                                                 \"internal_value\", \"internal_count\", \"leaf_count\"] )"
   ]
  },
  {
   "cell_type": "code",
   "execution_count": null,
   "metadata": {},
   "outputs": [],
   "source": [
    "m.predict(X)"
   ]
  },
  {
   "cell_type": "code",
   "execution_count": null,
   "metadata": {},
   "outputs": [],
   "source": [
    "34.5*5/3"
   ]
  },
  {
   "cell_type": "code",
   "execution_count": null,
   "metadata": {},
   "outputs": [],
   "source": []
  },
  {
   "cell_type": "code",
   "execution_count": null,
   "metadata": {},
   "outputs": [],
   "source": []
  },
  {
   "cell_type": "code",
   "execution_count": null,
   "metadata": {},
   "outputs": [],
   "source": [
    "kaggle[\"F0\"] = kaggle.Age.median()\n",
    "kaggle[\"residual\"] = kaggle.Age - kaggle.F0\n",
    "kaggle"
   ]
  },
  {
   "cell_type": "code",
   "execution_count": null,
   "metadata": {},
   "outputs": [],
   "source": []
  },
  {
   "cell_type": "code",
   "execution_count": null,
   "metadata": {},
   "outputs": [],
   "source": [
    "model = GradientBoostingRegressor(alpha=0.9, criterion='friedman_mse', init=None,\n",
    "             learning_rate=1, loss='lad', max_depth=1, max_features=None,\n",
    "             max_leaf_nodes=None, min_impurity_decrease=0.0,\n",
    "             min_impurity_split=None, min_samples_leaf=1,\n",
    "             min_samples_split=1.0, min_weight_fraction_leaf=0.0,\n",
    "             n_estimators=1, n_iter_no_change=None, presort='auto',\n",
    "             random_state=None, subsample=1.0, tol=0.000001,\n",
    "             validation_fraction=0, verbose=0, warm_start=False)\n",
    "model\n",
    "\n",
    "model.fit(X, y)\n",
    "model.predict(X)"
   ]
  },
  {
   "cell_type": "code",
   "execution_count": null,
   "metadata": {},
   "outputs": [],
   "source": []
  },
  {
   "cell_type": "code",
   "execution_count": null,
   "metadata": {},
   "outputs": [],
   "source": []
  },
  {
   "cell_type": "code",
   "execution_count": null,
   "metadata": {},
   "outputs": [],
   "source": []
  },
  {
   "cell_type": "code",
   "execution_count": null,
   "metadata": {},
   "outputs": [],
   "source": [
    "def find_duplicate_1(nums):\n",
    "    a_dict = dict()\n",
    "    for n in nums:  \n",
    "        if n in a_dict:\n",
    "            return n\n",
    "        else:\n",
    "            a_dict[n] = 1\n",
    "    return -1\n",
    "\n",
    "\n",
    "def find_duplicate_2(nums):\n",
    "    a_dict = dict()\n",
    "    for i in range(len(nums)):\n",
    "        n = nums[i]\n",
    "        if n in a_dict:\n",
    "            return n\n",
    "        else:\n",
    "            a_dict[n] = 1\n",
    "    return -1     \n",
    "\n",
    "arr = [3,1,3,4,2]\n",
    "\n",
    "print(find_duplicate_1(arr))\n",
    "print(find_duplicate_2(arr))"
   ]
  },
  {
   "cell_type": "code",
   "execution_count": null,
   "metadata": {},
   "outputs": [],
   "source": []
  }
 ],
 "metadata": {
  "hide_input": false,
  "kernelspec": {
   "display_name": "python3.6",
   "language": "python",
   "name": "python3.6"
  },
  "language_info": {
   "codemirror_mode": {
    "name": "ipython",
    "version": 3
   },
   "file_extension": ".py",
   "mimetype": "text/x-python",
   "name": "python",
   "nbconvert_exporter": "python",
   "pygments_lexer": "ipython3",
   "version": "3.6.6"
  },
  "toc": {
   "base_numbering": 1,
   "nav_menu": {},
   "number_sections": true,
   "sideBar": true,
   "skip_h1_title": false,
   "title_cell": "Table of Contents",
   "title_sidebar": "Contents",
   "toc_cell": false,
   "toc_position": {
    "height": "calc(100% - 180px)",
    "left": "10px",
    "top": "150px",
    "width": "298px"
   },
   "toc_section_display": true,
   "toc_window_display": true
  },
  "varInspector": {
   "cols": {
    "lenName": 16,
    "lenType": 16,
    "lenVar": 40
   },
   "kernels_config": {
    "python": {
     "delete_cmd_postfix": "",
     "delete_cmd_prefix": "del ",
     "library": "var_list.py",
     "varRefreshCmd": "print(var_dic_list())"
    },
    "r": {
     "delete_cmd_postfix": ") ",
     "delete_cmd_prefix": "rm(",
     "library": "var_list.r",
     "varRefreshCmd": "cat(var_dic_list()) "
    }
   },
   "types_to_exclude": [
    "module",
    "function",
    "builtin_function_or_method",
    "instance",
    "_Feature"
   ],
   "window_display": false
  }
 },
 "nbformat": 4,
 "nbformat_minor": 2
}
